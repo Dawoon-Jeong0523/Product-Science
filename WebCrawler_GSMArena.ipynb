{
  "nbformat": 4,
  "nbformat_minor": 0,
  "metadata": {
    "colab": {
      "private_outputs": true,
      "provenance": [],
      "mount_file_id": "1IXQ6M3wD1vhiOFwLaf0usOIxFYJrjJzS",
      "authorship_tag": "ABX9TyORwxJVP5+Ag6b479+SVFVB",
      "include_colab_link": true
    },
    "kernelspec": {
      "name": "python3",
      "display_name": "Python 3"
    },
    "language_info": {
      "name": "python"
    }
  },
  "cells": [
    {
      "cell_type": "markdown",
      "metadata": {
        "id": "view-in-github",
        "colab_type": "text"
      },
      "source": [
        "<a href=\"https://colab.research.google.com/github/Dawoon-Jeong0523/Product-Science/blob/main/WebCrawler_GSMArena.ipynb\" target=\"_parent\"><img src=\"https://colab.research.google.com/assets/colab-badge.svg\" alt=\"Open In Colab\"/></a>"
      ]
    },
    {
      "cell_type": "markdown",
      "source": [
        "# Config"
      ],
      "metadata": {
        "id": "xUGx1tSV93Bt"
      }
    },
    {
      "cell_type": "code",
      "source": [
        "data_directory=r'/content/drive/MyDrive/Research/Product Science/Data'\n",
        "output_directory=r'/content/drive/MyDrive/Research/Product Science/Output'"
      ],
      "metadata": {
        "id": "NM_IxvX4-ARC"
      },
      "execution_count": null,
      "outputs": []
    },
    {
      "cell_type": "code",
      "execution_count": null,
      "metadata": {
        "id": "USY_kTA16dcR"
      },
      "outputs": [],
      "source": [
        "from urllib.request import urlopen\n",
        "from bs4 import BeautifulSoup as bs\n",
        "from urllib.parse import quote_plus\n",
        "import time\n",
        "import json\n",
        "from collections import OrderedDict\n",
        "import re\n",
        "import requests"
      ]
    },
    {
      "cell_type": "code",
      "source": [
        "!pip install selenium bs4 webdriver_manager"
      ],
      "metadata": {
        "id": "tCUZXq0I9vY6"
      },
      "execution_count": null,
      "outputs": []
    },
    {
      "cell_type": "code",
      "source": [
        "from selenium import webdriver\n",
        "from selenium.webdriver.chrome.service import Service as ChromeService\n",
        "from selenium.webdriver.chrome.options import Options as ChromeOptions\n",
        "from webdriver_manager.chrome import ChromeDriverManager\n",
        "\n",
        "options = ChromeOptions()\n",
        "user_agent = \"Mozilla/5.0 (Macintosh; Intel Mac OS X 10_12_6) AppleWebKit/537.36 (KHTML, like Gecko) Chrome/61.0.3163.100 Safari/537.36\"\n",
        "options.add_argument('user-agent=' + user_agent)\n",
        "options.add_argument(\"lang=ko_KR\")\n",
        "options.add_argument('headless')\n",
        "options.add_argument('window-size=1920x1080')\n",
        "options.add_argument(\"disable-gpu\")\n",
        "options.add_argument(\"--no-sandbox\")\n",
        "\n",
        "# chrome driver\n",
        "service = ChromeService(executable_path=ChromeDriverManager().install())\n",
        "driver = webdriver.Chrome(service=service, options=options)"
      ],
      "metadata": {
        "id": "vRuyxDw29sBs"
      },
      "execution_count": null,
      "outputs": []
    },
    {
      "cell_type": "code",
      "source": [
        "import requests\n",
        "\n",
        "url=\"https://www.gsmarena.com/\"\n",
        "\n",
        "headers={\"User-Agent\":\"Mozilla/5.0 (Windows NT 10.0; Win64; x64) AppleWebKit/537.36 (KHTML, like Gecko) Chrome/96.0.4664.45 Safari/537.36\"}\n",
        "res=requests.get(url,headers=headers)\n",
        "print(res.text)"
      ],
      "metadata": {
        "id": "lk35zqJ19tf5"
      },
      "execution_count": null,
      "outputs": []
    },
    {
      "cell_type": "markdown",
      "source": [
        "# URL path"
      ],
      "metadata": {
        "id": "ovzjom4n90KN"
      }
    },
    {
      "cell_type": "code",
      "source": [
        "import time\n",
        "import random\n",
        "from tqdm import tqdm\n",
        "\n",
        "time.sleep(random.randint(1,10))"
      ],
      "metadata": {
        "id": "PgYaOPnv9zKX"
      },
      "execution_count": null,
      "outputs": []
    },
    {
      "cell_type": "code",
      "source": [
        "import time\n",
        "import random\n",
        "\n",
        "input_URL=\"https://www.gsmarena.com/makers.php3\"\n",
        "product_url_list=[]\n",
        "\n",
        "headers={\"User-Agent\":\"Mozilla/5.0 (Windows NT 10.0; Win64; x64) AppleWebKit/537.36 (KHTML, like Gecko) Chrome/96.0.4664.45 Safari/537.36\"}\n",
        "session = requests.Session()\n",
        "html = session.get(input_URL, headers=headers).content\n",
        "soup = bs(html, 'html.parser')\n",
        "\n",
        "temp_firm_url_list=[]\n",
        "for item in soup.find(\"div\",class_=\"st-text\").find_all(\"a\"):\n",
        "  temp_firm_url_list.append(\"https://www.gsmarena.com/\"+item[\"href\"])\n",
        "\n",
        "\n",
        "for temp_firm in tqdm(temp_firm_url_list):\n",
        "  time.sleep(random.randint(1,10))\n",
        "  html = session.get(temp_firm, headers=headers).content\n",
        "  soup = bs(html, 'html.parser')\n",
        "\n",
        "  # 특정기업(1개)의 page url 리스트\n",
        "  one_firm_url_list=[]\n",
        "  one_firm_url_list.append(temp_firm)\n",
        "  try:\n",
        "    for item in soup.find(\"div\",class_=\"nav-pages\").find_all(\"a\"):\n",
        "      one_firm_url_list.append(\"https://www.gsmarena.com/\"+item[\"href\"])\n",
        "  except:\n",
        "    pass\n",
        "\n",
        "  for temp_url in one_firm_url_list:\n",
        "    time.sleep(random.randint(1,10))\n",
        "    html = session.get(temp_url, headers=headers).content\n",
        "    soup = bs(html, 'html.parser')\n",
        "    try:\n",
        "      for item in soup.find(\"div\",class_=\"makers\").find_all(\"li\"):\n",
        "        product_url_list.append(\"https://www.gsmarena.com/\"+item.find(\"a\")[\"href\"])\n",
        "    except:\n",
        "      print(temp_url)"
      ],
      "metadata": {
        "id": "4RW0vtJN9737"
      },
      "execution_count": null,
      "outputs": []
    },
    {
      "cell_type": "code",
      "source": [
        "len(product_url_list)"
      ],
      "metadata": {
        "id": "0q_90RL698id"
      },
      "execution_count": null,
      "outputs": []
    },
    {
      "cell_type": "code",
      "source": [
        "import pandas as pd"
      ],
      "metadata": {
        "id": "1ap2Mx6S997a"
      },
      "execution_count": null,
      "outputs": []
    },
    {
      "cell_type": "code",
      "source": [
        "temp_df=pd.DataFrame()\n",
        "temp_df[\"product url\"]=product_url_list\n",
        "temp_df.to_csv(data_directory+\"/product_url_list_2025.csv\")"
      ],
      "metadata": {
        "id": "6h1p4kVm9-mS"
      },
      "execution_count": null,
      "outputs": []
    },
    {
      "cell_type": "markdown",
      "source": [
        "# Crawling 1-page"
      ],
      "metadata": {
        "id": "FC83BQ4d-Obk"
      }
    },
    {
      "cell_type": "code",
      "source": [
        "import pandas as pd\n",
        "product_url_list=pd.read_csv(data_directory+\"/product_url_list_2025.csv\")\n",
        "product_url_list=list(product_url_list[\"product url\"])"
      ],
      "metadata": {
        "id": "Cf1kORyi-NyB"
      },
      "execution_count": null,
      "outputs": []
    },
    {
      "cell_type": "code",
      "source": [
        "def one_page_crawler(input_URL):\n",
        "  headers={\"User-Agent\":\"Mozilla/5.0 (Windows NT 10.0; Win64; x64) AppleWebKit/537.36 (KHTML, like Gecko) Chrome/96.0.4664.45 Safari/537.36\"}\n",
        "  #res=requests.get(input_URL,headers=headers)\n",
        "  session = requests.Session()\n",
        "  time.sleep(random.randint(1,5))\n",
        "  html = session.get(input_URL, headers=headers).content\n",
        "  #with urlopen(input_URL) as response:\n",
        "  #  html = response.read()\n",
        "  soup = bs(html, 'html.parser')\n",
        "\n",
        "  name=[item.get_text() for item in soup.find_all(\"h1\",class_=\"specs-phone-name-title\")][0]\n",
        "\n",
        "  temp_first_list=[]\n",
        "  for item in soup.find_all(\"th\"):\n",
        "    temp_first_list.append(item.get_text().strip())\n",
        "\n",
        "  temp_key_list=[]\n",
        "  for item in soup.find_all(\"td\",class_=\"ttl\"):\n",
        "    temp_key_list.append(item.get_text().strip())\n",
        "\n",
        "  temp_key_list=[x.strip() for x in temp_key_list if x.strip()!=\"\"]\n",
        "\n",
        "  data={}\n",
        "  temp_dict={}\n",
        "  temp_all_list=[]\n",
        "  for item in soup.select(\"tr\"):\n",
        "    temp_list=item.get_text().split(\"\\n\")\n",
        "    temp_list=[x.strip() for x in temp_list if x.strip()!=\"\"]\n",
        "    if \"Tests\" in temp_list:\n",
        "      break\n",
        "    temp_all_list+=temp_list\n",
        "\n",
        "\n",
        "\n",
        "  index=0\n",
        "  data={}\n",
        "  for item in temp_all_list:\n",
        "    if item in temp_first_list:\n",
        "      if item==\"Features\":\n",
        "        if temp_all_list[index+1] not in temp_key_list:\n",
        "          temp_second_key=item\n",
        "          data[temp_first_key][temp_second_key]=[]\n",
        "          pass\n",
        "        else:\n",
        "          temp_first_key=item\n",
        "          data[temp_first_key]={}\n",
        "      else:\n",
        "        temp_first_key=item\n",
        "        data[temp_first_key]={}\n",
        "    elif item in temp_key_list:\n",
        "      temp_second_key=item\n",
        "      data[temp_first_key][temp_second_key]=[]\n",
        "\n",
        "    else:\n",
        "      try:\n",
        "        data[temp_first_key][temp_second_key].append(item)\n",
        "      except:\n",
        "        data[temp_first_key]=item\n",
        "    index+=1\n",
        "\n",
        "  data[\"Demand\"]={}\n",
        "  data[\"Demand\"][\"Fans\"]=soup.find_all('strong',class_='accent')[1].get_text()\n",
        "  data[\"Demand\"][\"Rate\"]=soup.find_all('li',class_='light pattern help help-popularity')[0].select('strong')[0].get_text().strip()\n",
        "  data[\"Demand\"][\"Hits\"]=soup.find_all('li',class_='light pattern help help-popularity')[0].select('span')[0].get_text()\n",
        "\n",
        "  return name, data"
      ],
      "metadata": {
        "id": "KLMzMiZOML1O"
      },
      "execution_count": null,
      "outputs": []
    },
    {
      "cell_type": "code",
      "source": [
        "temp_URL='https://www.gsmarena.com/samsung_x610-800.php'\n",
        "name, data = one_page_crawler(temp_URL)"
      ],
      "metadata": {
        "id": "7sFJo4FWMPhH"
      },
      "execution_count": null,
      "outputs": []
    },
    {
      "cell_type": "code",
      "source": [
        "data[\"Demand\"]"
      ],
      "metadata": {
        "id": "wXiomlMbMQyr"
      },
      "execution_count": null,
      "outputs": []
    },
    {
      "cell_type": "code",
      "source": [
        "import warnings\n",
        "warnings.filterwarnings('ignore')"
      ],
      "metadata": {
        "id": "YWJhP4xPMXZo"
      },
      "execution_count": null,
      "outputs": []
    },
    {
      "cell_type": "code",
      "source": [
        "Total_data=OrderedDict()\n",
        "temp_df=pd.DataFrame()\n",
        "error_list=[]\n",
        "temp_result_list = []\n",
        "for temp_URL in tqdm(product_url_list):\n",
        "  try:\n",
        "    temp_name, temp_data=one_page_crawler(temp_URL)\n",
        "    Total_data[temp_name]=temp_data\n",
        "    temp_list=[]\n",
        "    temp_list.append(temp_name)\n",
        "    temp_list.append(temp_data)\n",
        "    temp_result_list.append(temp_list)\n",
        "  except:\n",
        "    print(temp_URL)\n",
        "    error_list.append(temp_URL)\n",
        "    pass"
      ],
      "metadata": {
        "id": "u32XiN6aMZL5"
      },
      "execution_count": null,
      "outputs": []
    },
    {
      "cell_type": "code",
      "source": [
        "temp_df=pd.DataFrame(temp_result_list)\n",
        "temp_df.columns=[\"name\",\"data\"]\n",
        "temp_df.to_csv(data_directory+\"/temp_df\"+str(len(temp_df))+\".csv\")\n",
        "with open(data_directory+'/temp'+str(len(temp_df))+'_utf_8.json','w',encoding=\"utf-8\") as f:\n",
        "  json.dump(Total_data,f,indent=\"\\t\")\n",
        "with open(data_directory+'/temp'+str(len(temp_df))+'_utg_sig_8.json','w',encoding=\"utf-8-sig\") as f:\n",
        "  json.dump(Total_data,f,indent=\"\\t\")\n",
        "with open(data_directory+'/temp'+str(len(temp_df))+'_raw.json','w') as f:\n",
        "  json.dump(Total_data,f,indent=\"\\t\")"
      ],
      "metadata": {
        "id": "MODFsJ_mMaAn"
      },
      "execution_count": null,
      "outputs": []
    },
    {
      "cell_type": "code",
      "source": [
        "import json\n",
        "with open(data_directory+'/Total_data.json','w') as json_file:\n",
        "    json.dump(Total_data, json_file)"
      ],
      "metadata": {
        "id": "WvE5FfdLMdn7"
      },
      "execution_count": null,
      "outputs": []
    },
    {
      "cell_type": "code",
      "source": [
        "import json\n",
        "with open('/content/drive/MyDrive/Research/Product Science/Data/Total_Data.json','r') as json_file:\n",
        "    Total_data = json.load(json_file)"
      ],
      "metadata": {
        "id": "UdhkX3S2MfZ2"
      },
      "execution_count": null,
      "outputs": []
    },
    {
      "cell_type": "code",
      "source": [
        "len(Total_data)"
      ],
      "metadata": {
        "id": "q-HBXivw_aqn"
      },
      "execution_count": null,
      "outputs": []
    },
    {
      "cell_type": "code",
      "source": [
        "temp_keys = list(Total_data.keys())\n",
        "temp_keys[0:10]"
      ],
      "metadata": {
        "id": "n-v_TE2UAM1S"
      },
      "execution_count": null,
      "outputs": []
    },
    {
      "cell_type": "code",
      "source": [],
      "metadata": {
        "id": "2E11B67XAPvU"
      },
      "execution_count": null,
      "outputs": []
    }
  ]
}