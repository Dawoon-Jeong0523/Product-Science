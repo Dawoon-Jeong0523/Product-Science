{
  "nbformat": 4,
  "nbformat_minor": 0,
  "metadata": {
    "colab": {
      "private_outputs": true,
      "provenance": [],
      "machine_shape": "hm",
      "toc_visible": true,
      "collapsed_sections": [
        "zQGVVaoUWBam"
      ],
      "mount_file_id": "1R6pTAn8M2rwu5SAFK0b6greVCTQWALM6",
      "authorship_tag": "ABX9TyN9iWDBSRfj5PsnwrK2MF3Z",
      "include_colab_link": true
    },
    "kernelspec": {
      "name": "python3",
      "display_name": "Python 3"
    },
    "language_info": {
      "name": "python"
    },
    "gpuClass": "standard"
  },
  "cells": [
    {
      "cell_type": "markdown",
      "metadata": {
        "id": "view-in-github",
        "colab_type": "text"
      },
      "source": [
        "<a href=\"https://colab.research.google.com/github/Dawoon-Jeong0523/Product-Science/blob/main/Product_Lineage_Life_Cycle.ipynb\" target=\"_parent\"><img src=\"https://colab.research.google.com/assets/colab-badge.svg\" alt=\"Open In Colab\"/></a>"
      ]
    },
    {
      "cell_type": "code",
      "execution_count": null,
      "metadata": {
        "id": "BjPHeIPjUO0H"
      },
      "outputs": [],
      "source": [
        "!pip install adjusttext"
      ]
    },
    {
      "cell_type": "code",
      "source": [
        "import pandas as pd\n",
        "import numpy as np\n",
        "import math\n",
        "from tqdm.notebook import tqdm\n",
        "from numpy import dot\n",
        "from numpy.linalg import norm\n",
        "import networkx as nx\n",
        "from numpy import dot\n",
        "from numpy.linalg import norm\n",
        "import matplotlib.pyplot as plt\n",
        "import matplotlib.colors as mcolors\n",
        "from networkx.algorithms.community import greedy_modularity_communities\n",
        "from sklearn.decomposition import PCA\n",
        "from mpl_toolkits.mplot3d import Axes3D\n",
        "from adjustText import adjust_text\n",
        "from math import pi\n",
        "from matplotlib.path import Path\n",
        "from matplotlib.spines import Spine\n",
        "from matplotlib.transforms import Affine2D\n",
        "import pydot\n",
        "from networkx.drawing.nx_pydot import graphviz_layout\n",
        "from matplotlib import cm\n",
        "from collections import Counter\n",
        "import pickle\n",
        "import os\n",
        "\n",
        "\n",
        "input_directory=\"/content/drive/MyDrive/Colab Notebooks/PLLC/Data\"\n",
        "output_directory=\"/content/drive/MyDrive/Colab Notebooks/PLLC/Output_paper\""
      ],
      "metadata": {
        "id": "DBXBPjrLUWo4"
      },
      "execution_count": null,
      "outputs": []
    },
    {
      "cell_type": "markdown",
      "source": [
        "# Functions"
      ],
      "metadata": {
        "id": "rG7I6CRdUXv4"
      }
    },
    {
      "cell_type": "code",
      "source": [
        "def cosine_similarity(A,B):\n",
        "  return dot(A, B)/(norm(A)*norm(B))"
      ],
      "metadata": {
        "id": "h4k_bViKUfCI"
      },
      "execution_count": null,
      "outputs": []
    },
    {
      "cell_type": "code",
      "source": [
        "def Ancestor_Descendant_Single(descendant_product,product_list):\n",
        "  if descendant_product.year==min([product.year for product in product_list]):\n",
        "    return None\n",
        "\n",
        "  else:\n",
        "    temp_list=[]\n",
        "    for product in product_list:\n",
        "      if product.year < descendant_product.year:\n",
        "        temp_value=cosine_similarity(product.genotype,descendant_product.genotype)\n",
        "        if temp_value>=0.5:\n",
        "          temp_list.append(temp_value)\n",
        "          #temp_list.append(Gower_similarity(product.representative_vector,descendant_product.representative_vector,Cat_list))\n",
        "        else:\n",
        "          temp_list.append(-1)\n",
        "      else:\n",
        "        temp_list.append(-1)\n",
        "    if max(temp_list)<0:\n",
        "      return None\n",
        "    else:\n",
        "      return product_list[temp_list.index(max(temp_list))]"
      ],
      "metadata": {
        "id": "huCfLinaUYuo"
      },
      "execution_count": null,
      "outputs": []
    },
    {
      "cell_type": "code",
      "source": [
        "class Product():\n",
        "  def __init__(self,id:int, name:str, year:int, raw_gene:list):\n",
        "    self.id=id\n",
        "    self.name=name\n",
        "    self.year=year\n",
        "    self.raw_gene=raw_gene\n",
        "    self.product_type=None\n",
        "    self.genotype=None\n",
        "    self.taxon=None\n",
        "    self.ancestor=None\n",
        "    self.descendant=None\n",
        "    self.ancestors=None\n",
        "    self.descendants=None\n",
        "    self.information_content=None\n",
        "    self.innovativeness=None"
      ],
      "metadata": {
        "id": "FN8iLhxkUf0w"
      },
      "execution_count": null,
      "outputs": []
    },
    {
      "cell_type": "code",
      "source": [
        "def PLLC(temp_product):\n",
        "  temp_product_lineage=[]\n",
        "  temp_product_lineage.append(temp_product)\n",
        "  while True:\n",
        "    temp_ancestor=temp_product.ancestor\n",
        "    if temp_ancestor:\n",
        "      temp_product_lineage.append(temp_ancestor)\n",
        "      temp_product=temp_ancestor\n",
        "    else:\n",
        "      break\n",
        "\n",
        "  temp_product_lineage.reverse()\n",
        "\n",
        "  fig=plt.figure(figsize=(20,10))\n",
        "\n",
        "\n",
        "  key=temp_product_lineage[-1].name\n",
        "  temp_x_list=[]\n",
        "  for index in range(2,len(temp_product_lineage)):\n",
        "    temp_x_list.append(\n",
        "        np.average(\n",
        "            [\n",
        "            temp_product_lineage[index-2].innovativeness,\n",
        "            temp_product_lineage[index-1].innovativeness,\n",
        "            temp_product_lineage[index].innovativeness\n",
        "            ]\n",
        "        )\n",
        "    )\n",
        "\n",
        "\n",
        "  texts=[]\n",
        "  plt.plot([temp_product_lineage[x].year for x in range(2,len(temp_product_lineage))],temp_x_list,label=key,linewidth=5,alpha=0.5)\n",
        "  for index in range(2,len(temp_product_lineage)):\n",
        "    texts.append(plt.text(temp_product_lineage[index].year,temp_x_list[index-2],temp_product_lineage[index].name,fontsize=15))\n",
        "\n",
        "  plt.xticks([year for year in range(1995,2022)])\n",
        "  #ax.set_xticklabels([year for year in range(1995,2022)])\n",
        "  plt.title(f\"Product Lineage Life Cycle of %s\"%str(temp_product_lineage[-1].name),fontsize=15)\n",
        "  adjust_text(texts,arrowprops=dict(arrowstyle='->', color='red'))\n",
        "\n",
        "  plt.xlabel(\"Year\", fontsize=15)\n",
        "  plt.ylabel(\"Product Innovativeness\",fontsize=15)\n",
        "\n",
        "  plt.savefig(output_directory+f\"/PLLC_%s.jpg\"%str(temp_product_lineage[-1].name),dpi=600,transparent=True,bbox_inches=\"tight\")\n",
        "  return temp_product_lineage"
      ],
      "metadata": {
        "id": "0uIx72pKVoWP"
      },
      "execution_count": null,
      "outputs": []
    },
    {
      "cell_type": "markdown",
      "source": [
        "# Data Preprocessing"
      ],
      "metadata": {
        "id": "zs8aaXtzUnvA"
      }
    },
    {
      "cell_type": "code",
      "source": [
        "gene_dictionary_df=pd.read_csv(input_directory+\"/220914_GSMArena_gene_dictionary.csv\")\n",
        "gene_dictionary_df.head()"
      ],
      "metadata": {
        "id": "ogM0ey2bUpZA"
      },
      "execution_count": null,
      "outputs": []
    },
    {
      "cell_type": "code",
      "source": [
        "df=pd.read_csv(input_directory+\"/220914_GSMArena_products_None.csv\")\n",
        "vectors=np.load(input_directory+\"/220914_GSMArena_products_None.npy\")\n",
        "df[\"vector\"]=list(vectors)"
      ],
      "metadata": {
        "id": "rcQ-QZwkVOOw"
      },
      "execution_count": null,
      "outputs": []
    },
    {
      "cell_type": "code",
      "source": [
        "df=df[df[\"year\"]!=\"No\"]\n",
        "df.reset_index(inplace=True,drop=True)\n",
        "df[\"year\"]=df[\"year\"].astype(float)\n",
        "df[\"year\"]=df[\"year\"].astype(int)\n",
        "df[\"id\"]=df[\"id\"].astype(float)\n",
        "df[\"id\"]=df[\"id\"].astype(int)"
      ],
      "metadata": {
        "id": "T3kcPKyWVPuX"
      },
      "execution_count": null,
      "outputs": []
    },
    {
      "cell_type": "code",
      "source": [
        "temp_list=[]\n",
        "for index in range(len(df)):\n",
        "  temp_list.append([int(x.strip()) for x in df.loc[index,\"raw_gene\"][1:-1].split(\",\")])\n",
        "df[\"raw_gene\"]=temp_list"
      ],
      "metadata": {
        "id": "9YPyO1NvVSjv"
      },
      "execution_count": null,
      "outputs": []
    },
    {
      "cell_type": "code",
      "source": [
        "product_list=[]\n",
        "for i in range(len(df)):\n",
        "  temp_id=i\n",
        "  temp_name=df.loc[i,\"name\"]\n",
        "  temp_year=df.loc[i,\"year\"]\n",
        "  # set 부여\n",
        "  temp_raw_gene=set(df.loc[i,\"raw_gene\"])\n",
        "  product_list.append(Product(temp_id,temp_name,temp_year,temp_raw_gene))\n",
        "  product_list[-1].genotype=df.loc[i,\"vector\"]"
      ],
      "metadata": {
        "id": "7rKqClzvVUmg"
      },
      "execution_count": null,
      "outputs": []
    },
    {
      "cell_type": "code",
      "source": [
        "year_list=[year for year in range(1995,2022)]\n",
        "product_list=[product for product in product_list if product.year in year_list]"
      ],
      "metadata": {
        "id": "ZY5bAqHxVcIg"
      },
      "execution_count": null,
      "outputs": []
    },
    {
      "cell_type": "code",
      "source": [
        "# Matching Evolutionary Relationship\n",
        "for product in tqdm(product_list):\n",
        "  product.ancestor=Ancestor_Descendant_Single(product,product_list)"
      ],
      "metadata": {
        "id": "4zZGf_6bVeh_"
      },
      "execution_count": null,
      "outputs": []
    },
    {
      "cell_type": "code",
      "source": [
        "gene_dictionary_df[\"index\"]=gene_dictionary_df[\"index\"].astype(int)"
      ],
      "metadata": {
        "id": "t8Cxw1MfVgQY"
      },
      "execution_count": null,
      "outputs": []
    },
    {
      "cell_type": "code",
      "source": [
        "temp_prob_list=[]\n",
        "for year in year_list:\n",
        "  temp_products=[product for product in product_list if product.year==year]\n",
        "  temp_genes=[]\n",
        "  index=0\n",
        "  for product in temp_products:\n",
        "    temp_genes+=product.raw_gene\n",
        "  temp_dict=Counter(temp_genes)\n",
        "  temp_sum=sum(Counter(temp_genes).values())\n",
        "  temp_prob_dict=dict(zip(\n",
        "      [x for x in temp_dict.keys()],\n",
        "      [temp_dict[x]/temp_sum for x in temp_dict.keys()]))\n",
        "  temp_prob_list.append(temp_prob_dict)"
      ],
      "metadata": {
        "id": "bOpb_id2VzTn"
      },
      "execution_count": null,
      "outputs": []
    },
    {
      "cell_type": "code",
      "source": [
        "for product in tqdm(product_list):\n",
        "  temp_prob_dict=temp_prob_list[year_list.index(product.year)]\n",
        "  product.information_content=np.sum([(-1)*np.log(temp_prob_dict[x]) for x in product.raw_gene])\n",
        "  product.innovativeness=product.information_content/len(product.raw_gene)"
      ],
      "metadata": {
        "id": "IncTpM6PV1lf"
      },
      "execution_count": null,
      "outputs": []
    },
    {
      "cell_type": "code",
      "source": [
        "temp_gene_dictionary_df=gene_dictionary_df[gene_dictionary_df['Domain_2']=='OS']\n",
        "temp_gene_dictionary_df[temp_gene_dictionary_df['gene']=='no']\n",
        "\n",
        "# featurephone index = 7043\n",
        "Pad = ['pad','tab','Amazon Fire',\"Tablet\",'tablet',\"Pad\",\"Tab\"]\n",
        "Watch = ['watch',\"Watch\"]\n",
        "\n",
        "Pad = ['pad','tab','amazon fire',\"tablet\"]\n",
        "\n",
        "\n",
        "for product in product_list:\n",
        "  product.product_type='smart'\n",
        "\n",
        "for product in product_list:\n",
        "  if 7043 in product.raw_gene:\n",
        "    product.product_type=\"feature\"\n",
        "\n",
        "  else:\n",
        "    for item in Pad:\n",
        "      if item in product.name.lower():\n",
        "        if product.name!='Amazon Fire Phone':\n",
        "          product.product_type='tablet'\n",
        "    for item in Watch:\n",
        "      if item in product.name.lower():\n",
        "        product.product_type='watch'\n"
      ],
      "metadata": {
        "id": "QG5CbTBPWfmn"
      },
      "execution_count": null,
      "outputs": []
    },
    {
      "cell_type": "code",
      "source": [
        "gene_dictionary_df[gene_dictionary_df[\"gene\"]=='ios']"
      ],
      "metadata": {
        "id": "5e5N0ZrbUvPF"
      },
      "execution_count": null,
      "outputs": []
    },
    {
      "cell_type": "code",
      "source": [
        "temp_dict=dict(zip([product.name for product in temp_products],\n",
        "                   [product.innovativeness for product in temp_products]))\n",
        "\n",
        "sorted(temp_dict.items(),key=lambda item:item[1])[0:10]"
      ],
      "metadata": {
        "id": "FQ9eLQPMXhbC"
      },
      "execution_count": null,
      "outputs": []
    },
    {
      "cell_type": "code",
      "source": [
        "product=[product for product in product_list if product.name==\"Apple iPhone\"][0]\n",
        "temp_products=[item for item in product_list if product.year==item.year]\n",
        "len(temp_products)\n",
        "temp_list=[]\n",
        "for item in temp_products:\n",
        "  temp_list+=item.raw_gene\n",
        "temp_list=[x[0] for x in Counter(temp_list).most_common() if x[1]==1]\n",
        "gene_dictionary_df[gene_dictionary_df['index'].isin(temp_list)]\n",
        "print(len(list(set(product.raw_gene).intersection(set(temp_list))))/len(product.raw_gene))"
      ],
      "metadata": {
        "id": "x8bjGdhFWnwH"
      },
      "execution_count": null,
      "outputs": []
    },
    {
      "cell_type": "code",
      "source": [
        "len(list(set(product.raw_gene).intersection(set(temp_list))))"
      ],
      "metadata": {
        "id": "aPES8SPdYacz"
      },
      "execution_count": null,
      "outputs": []
    },
    {
      "cell_type": "code",
      "source": [
        "temp_list=list(set(product.raw_gene).intersection(set(temp_list)))\n",
        "temp_df=gene_dictionary_df[gene_dictionary_df[\"index\"].isin([int(x) for x in temp_list])]\n",
        "temp_df[temp_df[\"gene\"]!='no']"
      ],
      "metadata": {
        "id": "g3dMNYSMX64M"
      },
      "execution_count": null,
      "outputs": []
    },
    {
      "cell_type": "code",
      "source": [
        "product=[product for product in product_list if product.name==\"Samsung T439\"][0]\n",
        "temp_products=[item for item in product_list if product.year==item.year]\n",
        "len(temp_products)\n",
        "temp_list=[]\n",
        "for item in temp_products:\n",
        "  temp_list+=item.raw_gene\n",
        "temp_list=[x[0] for x in Counter(temp_list).most_common() if x[1]==1]\n",
        "gene_dictionary_df[gene_dictionary_df['index'].isin(temp_list)]\n",
        "print(len(list(set(product.raw_gene).intersection(set(temp_list))))/len(product.raw_gene))"
      ],
      "metadata": {
        "id": "Cl7Ly8TsXKfJ"
      },
      "execution_count": null,
      "outputs": []
    },
    {
      "cell_type": "code",
      "source": [
        "len(list(set(product.raw_gene).intersection(set(temp_list))))"
      ],
      "metadata": {
        "id": "ueQGfmVRYoCz"
      },
      "execution_count": null,
      "outputs": []
    },
    {
      "cell_type": "code",
      "source": [
        "temp_list=list(set(product.raw_gene).difference(set(temp_list)))\n",
        "temp_df=gene_dictionary_df[gene_dictionary_df[\"index\"].isin([int(x) for x in temp_list])]\n",
        "temp_df[temp_df[\"gene\"]!='no']"
      ],
      "metadata": {
        "id": "JEfPZqCGYpOq"
      },
      "execution_count": null,
      "outputs": []
    },
    {
      "cell_type": "code",
      "source": [
        "temp_df=gene_dictionary_df[gene_dictionary_df[\"index\"].isin([int(x) for x in product.raw_gene])]\n",
        "temp_df[temp_df[\"gene\"]!='no']"
      ],
      "metadata": {
        "id": "hbcdW4liWCQC"
      },
      "execution_count": null,
      "outputs": []
    },
    {
      "cell_type": "code",
      "source": [
        "temp_list=[x[0] for x in sorted(temp_prob_dict.items(), key=lambda item:-item[1])[:50]]\n",
        "gene_dictionary_df[gene_dictionary_df[\"index\"].isin(temp_list)]"
      ],
      "metadata": {
        "id": "KIdLZJrOU9pK"
      },
      "execution_count": null,
      "outputs": []
    },
    {
      "cell_type": "code",
      "source": [
        "temp_list=[x[0] for x in sorted(temp_prob_dict.items(), key=lambda item:-item[1])[-50:]]\n",
        "gene_dictionary_df[gene_dictionary_df[\"index\"].isin(temp_list)]"
      ],
      "metadata": {
        "id": "IrN9dNTzVKa6"
      },
      "execution_count": null,
      "outputs": []
    },
    {
      "cell_type": "code",
      "source": [
        "temp_list=[]\n",
        "temp_products=[product for product in product_list if \"Samsung\" in product.name if \"Note\" in product.name if product.year==2020]\n",
        "for product in temp_products:\n",
        "  temp_list+=product.raw_gene\n",
        "\n",
        "temp_list=list(set(temp_list))\n",
        "list(gene_dictionary_df[gene_dictionary_df[\"index\"].isin(temp_list)][\"gene\"])"
      ],
      "metadata": {
        "id": "ARtIOiH3qG8W"
      },
      "execution_count": null,
      "outputs": []
    },
    {
      "cell_type": "code",
      "source": [
        "temp_list=[]\n",
        "temp_products=[product for product in product_list if \"Samsung\" in product.name if \"S\" in product.name if product.year==2021]\n",
        "for product in temp_products:\n",
        "  temp_list+=product.raw_gene\n",
        "\n",
        "temp_list=list(set(temp_list))\n",
        "list(gene_dictionary_df[gene_dictionary_df[\"index\"].isin(temp_list)][\"gene\"])"
      ],
      "metadata": {
        "id": "HXiUmDooOv6B"
      },
      "execution_count": null,
      "outputs": []
    },
    {
      "cell_type": "markdown",
      "source": [
        "## Class Load and Save"
      ],
      "metadata": {
        "id": "mGwiA3gFZHMw"
      }
    },
    {
      "cell_type": "code",
      "source": [
        "# Save\n",
        "#for i in tqdm(range(len(product_list))):\n",
        "#  temp_name=\"product_\"+str(i)\n",
        "#  with open(f'/content/drive/MyDrive/Colab Notebooks/PLLC/Class/%s'%(temp_name), 'wb') as file:\n",
        "#    pickle.dump(product_list[i], file)"
      ],
      "metadata": {
        "id": "7R5HCAK3ZJWm"
      },
      "execution_count": null,
      "outputs": []
    },
    {
      "cell_type": "code",
      "source": [
        "# Load\n",
        "#product_list=[]\n",
        "#file_list = os.listdir('/content/drive/MyDrive/Colab Notebooks/PLLC/Class/')\n",
        "#for f in tqdm(file_list):\n",
        "#  with open(f'/content/drive/MyDrive/Colab Notebooks/PLLC/Class/%s'%(f), 'rb') as file:\n",
        "#    product = pickle.load(file)\n",
        "#    product_list.append(product)"
      ],
      "metadata": {
        "id": "bm_FXe3dZqa_"
      },
      "execution_count": null,
      "outputs": []
    },
    {
      "cell_type": "code",
      "source": [
        "year_list=[year for year in range(1995,2022)]"
      ],
      "metadata": {
        "id": "BgwNlldvjwZ3"
      },
      "execution_count": null,
      "outputs": []
    },
    {
      "cell_type": "code",
      "source": [
        "len(product_list)"
      ],
      "metadata": {
        "id": "VGlyJf1FlfCf"
      },
      "execution_count": null,
      "outputs": []
    },
    {
      "cell_type": "markdown",
      "source": [
        "# Product Lineage"
      ],
      "metadata": {
        "id": "zQGVVaoUWBam"
      }
    },
    {
      "cell_type": "code",
      "source": [
        "for product in product_list:\n",
        "  if product.year==2021:\n",
        "    if product.name==\"Apple iPhone 13 Pro Max\":\n",
        "      temp_product=product\n",
        "\n",
        "temp_list=[]\n",
        "product=temp_product\n",
        "temp_list.append(product)\n",
        "while product.ancestor:\n",
        "  print(product.ancestor.name, \"(\"+str(product.ancestor.year)+\")\")\n",
        "  product=product.ancestor\n",
        "  temp_list.append(product)"
      ],
      "metadata": {
        "id": "EBuGPhrRWCsI"
      },
      "execution_count": null,
      "outputs": []
    },
    {
      "cell_type": "code",
      "source": [
        "for product in product_list:\n",
        "  if product.year==2021:\n",
        "    if product.name==\"Samsung Galaxy Z Flip3 5G\":\n",
        "      temp_product=product\n",
        "\n",
        "temp_list=[]\n",
        "product=temp_product\n",
        "temp_list.append(product)\n",
        "while product.ancestor:\n",
        "  print(product.ancestor.name, \"(\"+str(product.ancestor.year)+\")\")\n",
        "  product=product.ancestor\n",
        "  temp_list.append(product)"
      ],
      "metadata": {
        "id": "fL3jkBGtWDn3"
      },
      "execution_count": null,
      "outputs": []
    },
    {
      "cell_type": "code",
      "source": [
        "for product in product_list:\n",
        "  if product.name==\"Nokia 9210i Communicator\":\n",
        "    temp_product=product\n",
        "\n",
        "temp_list=[]\n",
        "product=temp_product\n",
        "temp_list.append(product)\n",
        "while product.ancestor:\n",
        "  print(product.ancestor.name, \"(\"+str(product.ancestor.year)+\")\")\n",
        "  product=product.ancestor\n",
        "  temp_list.append(product)"
      ],
      "metadata": {
        "id": "BrlGzjv6WGjH"
      },
      "execution_count": null,
      "outputs": []
    },
    {
      "cell_type": "code",
      "source": [
        "for product in product_list:\n",
        "  if product.name==\"ZTE F928\":\n",
        "    temp_product=product\n",
        "\n",
        "temp_list=[]\n",
        "product=temp_product\n",
        "temp_list.append(product)\n",
        "while product.ancestor:\n",
        "  print(product.ancestor.name, \"(\"+str(product.ancestor.year)+\")\")\n",
        "  product=product.ancestor\n",
        "  temp_list.append(product)"
      ],
      "metadata": {
        "id": "imFGhop4YLWe"
      },
      "execution_count": null,
      "outputs": []
    },
    {
      "cell_type": "code",
      "source": [
        "for product in product_list:\n",
        "  if product.name==\"ZTE F928\":\n",
        "    temp_product=product\n",
        "\n",
        "temp_list=[]\n",
        "product=temp_product\n",
        "temp_list.append(product)\n",
        "while product.ancestor:\n",
        "  print(product.ancestor.name, \"(\"+str(product.ancestor.year)+\")\")\n",
        "  product=product.ancestor\n",
        "  temp_list.append(product)"
      ],
      "metadata": {
        "id": "dbSkRO6SWIoX"
      },
      "execution_count": null,
      "outputs": []
    },
    {
      "cell_type": "code",
      "source": [
        "temp_products_name=[\n",
        "    'Apple Watch Series 7 Aluminum', 'Apple iPad Pro 12.9 (2021)','Apple iPhone 13 Pro Max','Samsung Galaxy Z Flip3 5G','Apple iPhone 13 Pro','Nokia 9210i Communicator'\n",
        "]"
      ],
      "metadata": {
        "id": "KOxZ-jDZYKm3"
      },
      "execution_count": null,
      "outputs": []
    },
    {
      "cell_type": "code",
      "source": [
        "for product in product_list:\n",
        "  if product.name==temp_products_name[0]:\n",
        "    temp_product=product\n",
        "\n",
        "temp_list=[]\n",
        "product=temp_product\n",
        "temp_list.append(product)\n",
        "while product.ancestor:\n",
        "  print(product.ancestor.name, \"(\"+str(product.ancestor.year)+\")\")\n",
        "  product=product.ancestor\n",
        "  temp_list.append(product)"
      ],
      "metadata": {
        "id": "rgqIG5JuYQqY"
      },
      "execution_count": null,
      "outputs": []
    },
    {
      "cell_type": "code",
      "source": [
        "for product in product_list:\n",
        "  if product.name==temp_products_name[1]:\n",
        "    temp_product=product\n",
        "\n",
        "temp_list=[]\n",
        "product=temp_product\n",
        "temp_list.append(product)\n",
        "while product.ancestor:\n",
        "  print(product.ancestor.name, \"(\"+str(product.ancestor.year)+\")\")\n",
        "  product=product.ancestor\n",
        "  temp_list.append(product)"
      ],
      "metadata": {
        "id": "5ALs6ygzYTre"
      },
      "execution_count": null,
      "outputs": []
    },
    {
      "cell_type": "code",
      "source": [
        "for product in product_list:\n",
        "  if product.name==temp_products_name[2]:\n",
        "    temp_product=product\n",
        "\n",
        "temp_list=[]\n",
        "product=temp_product\n",
        "temp_list.append(product)\n",
        "while product.ancestor:\n",
        "  print(product.ancestor.name, \"(\"+str(product.ancestor.year)+\")\")\n",
        "  product=product.ancestor\n",
        "  temp_list.append(product)"
      ],
      "metadata": {
        "id": "rxCGvOZKYUif"
      },
      "execution_count": null,
      "outputs": []
    },
    {
      "cell_type": "code",
      "source": [
        "for product in product_list:\n",
        "  if product.name==temp_products_name[3]:\n",
        "    temp_product=product\n",
        "\n",
        "temp_list=[]\n",
        "product=temp_product\n",
        "temp_list.append(product)\n",
        "while product.ancestor:\n",
        "  print(product.ancestor.name, \"(\"+str(product.ancestor.year)+\")\")\n",
        "  product=product.ancestor\n",
        "  temp_list.append(product)"
      ],
      "metadata": {
        "id": "scntEeBYYWG_"
      },
      "execution_count": null,
      "outputs": []
    },
    {
      "cell_type": "code",
      "source": [
        "for product in product_list:\n",
        "  if product.name==temp_products_name[4]:\n",
        "    temp_product=product\n",
        "\n",
        "temp_list=[]\n",
        "product=temp_product\n",
        "temp_list.append(product)\n",
        "while product.ancestor:\n",
        "  print(product.ancestor.name, \"(\"+str(product.ancestor.year)+\")\")\n",
        "  product=product.ancestor\n",
        "  temp_list.append(product)"
      ],
      "metadata": {
        "id": "kKAqb9TjYW__"
      },
      "execution_count": null,
      "outputs": []
    },
    {
      "cell_type": "code",
      "source": [
        "for product in product_list:\n",
        "  if product.name==temp_products_name[5]:\n",
        "    temp_product=product\n",
        "\n",
        "temp_list=[]\n",
        "product=temp_product\n",
        "temp_list.append(product)\n",
        "while product.ancestor:\n",
        "  print(product.ancestor.name, \"(\"+str(product.ancestor.year)+\")\")\n",
        "  product=product.ancestor\n",
        "  temp_list.append(product)"
      ],
      "metadata": {
        "id": "Cx1wPnbuYX1I"
      },
      "execution_count": null,
      "outputs": []
    },
    {
      "cell_type": "markdown",
      "source": [
        "# Product Lineage Life Cycle"
      ],
      "metadata": {
        "id": "MF0FhMwBWKYP"
      }
    },
    {
      "cell_type": "code",
      "source": [
        "temp_products=[product for product in product_list if \"Apple\" in product.name if product.year==2021]\n",
        "for temp_product in temp_products[0:2]:\n",
        "  PLLC(temp_product)"
      ],
      "metadata": {
        "id": "cwLjBK5GWMZw"
      },
      "execution_count": null,
      "outputs": []
    },
    {
      "cell_type": "code",
      "source": [
        "temp_products=[product for product in product_list if \"Samsung Galaxy Z Flip3 5G\" in product.name]\n",
        "\n",
        "for temp_product in temp_products:\n",
        "  PLLC(temp_product)"
      ],
      "metadata": {
        "id": "t_3HVAIFWSOn"
      },
      "execution_count": null,
      "outputs": []
    },
    {
      "cell_type": "markdown",
      "source": [
        "Product Innovativeness"
      ],
      "metadata": {
        "id": "Oa9wwcTDWUD3"
      }
    },
    {
      "cell_type": "code",
      "source": [
        "temp_tablets=[x for x in product_list if x.product_type=='tablet']\n",
        "temp_smarts=[x for x in product_list if x.product_type=='smart']\n",
        "temp_watchs=[x for x in product_list if x.product_type=='watch']\n",
        "temp_features=[x for x in product_list if x.product_type=='feature']"
      ],
      "metadata": {
        "id": "0EEnPuvdW0d3"
      },
      "execution_count": null,
      "outputs": []
    },
    {
      "cell_type": "code",
      "source": [
        "fig=plt.figure(figsize=(20,10))\n",
        "\n",
        "temp_products=[product for product in temp_smarts if \"Apple\" in product.name]\n",
        "temp_year_list=sorted(list(set([product.year for product in temp_products])))\n",
        "temp_y_list=[]\n",
        "for year in temp_year_list:\n",
        "  temp=[product.innovativeness for product in temp_products if product.year==year]\n",
        "  temp_y_list.append(np.average(temp))\n",
        "plt.plot(temp_year_list,temp_y_list,label=\"Apple\")\n",
        "\n",
        "temp_products=[product for product in temp_smarts if \"Samsung\" in product.name]\n",
        "temp_year_list=sorted(list(set([product.year for product in temp_products])))\n",
        "temp_y_list=[]\n",
        "for year in temp_year_list:\n",
        "  temp=[product.innovativeness for product in temp_products if product.year==year]\n",
        "  temp_y_list.append(np.average(temp))\n",
        "plt.plot(temp_year_list,temp_y_list,label=\"Samsung\")\n",
        "\n",
        "temp_products=[product for product in temp_smarts if \"Nokia\" in product.name]\n",
        "temp_year_list=sorted(list(set([product.year for product in temp_products])))\n",
        "temp_y_list=[]\n",
        "for year in temp_year_list:\n",
        "  temp=[product.innovativeness for product in temp_products if product.year==year]\n",
        "  temp_y_list.append(np.average(temp))\n",
        "plt.plot(temp_year_list,temp_y_list,label=\"Nokia\")\n",
        "\n",
        "temp_products=[product for product in temp_smarts if \"LG\" in product.name]\n",
        "temp_year_list=sorted(list(set([product.year for product in temp_products])))\n",
        "temp_y_list=[]\n",
        "for year in temp_year_list:\n",
        "  temp=[product.innovativeness for product in temp_products if product.year==year]\n",
        "  temp_y_list.append(np.average(temp))\n",
        "plt.plot(temp_year_list,temp_y_list,label=\"LG\")\n",
        "\n",
        "temp_products=[product for product in temp_smarts if \"Motorola\" in product.name]\n",
        "temp_year_list=sorted(list(set([product.year for product in temp_products])))\n",
        "temp_y_list=[]\n",
        "for year in temp_year_list:\n",
        "  temp=[product.innovativeness for product in temp_products if product.year==year]\n",
        "  temp_y_list.append(np.average(temp))\n",
        "plt.plot(temp_year_list,temp_y_list,label=\"Motorola\")\n",
        "\n",
        "temp_products=[product for product in temp_smarts if \"Xiaomi\" in product.name]\n",
        "temp_year_list=sorted(list(set([product.year for product in temp_products])))\n",
        "temp_y_list=[]\n",
        "for year in temp_year_list:\n",
        "  temp=[product.innovativeness for product in temp_products if product.year==year]\n",
        "  temp_y_list.append(np.average(temp))\n",
        "plt.plot(temp_year_list,temp_y_list,label=\"Xiaomi\")\n",
        "\n",
        "plt.xticks(year_list)\n",
        "\n",
        "plt.xlabel(\"Year\", fontsize=15)\n",
        "plt.ylabel(\"Average Product Innovativeness\",fontsize=15)\n",
        "plt.legend(loc=\"upper left\",fontsize=15)\n",
        "\n",
        "plt.savefig(output_directory+\"/Smartphone_firm.jpg\",dpi=600,transparent=True,bbox_inches=\"tight\")"
      ],
      "metadata": {
        "id": "0JojAluHWW_X"
      },
      "execution_count": null,
      "outputs": []
    },
    {
      "cell_type": "code",
      "source": [
        "fig=plt.figure(figsize=(20,10))\n",
        "\n",
        "temp_products=[product for product in temp_features if \"Samsung\" in product.name]\n",
        "temp_year_list=sorted(list(set([product.year for product in temp_products])))\n",
        "temp_y_list=[]\n",
        "for year in temp_year_list:\n",
        "  temp=[product.innovativeness for product in temp_products if product.year==year]\n",
        "  temp_y_list.append(np.average(temp))\n",
        "plt.plot(temp_year_list,temp_y_list,label=\"Samsung\")\n",
        "\n",
        "temp_products=[product for product in temp_features if \"Nokia\" in product.name]\n",
        "temp_year_list=sorted(list(set([product.year for product in temp_products])))\n",
        "temp_y_list=[]\n",
        "for year in temp_year_list:\n",
        "  temp=[product.innovativeness for product in temp_products if product.year==year]\n",
        "  temp_y_list.append(np.average(temp))\n",
        "plt.plot(temp_year_list,temp_y_list,label=\"Nokia\")\n",
        "\n",
        "temp_products=[product for product in temp_features if \"LG\" in product.name]\n",
        "temp_year_list=sorted(list(set([product.year for product in temp_products])))\n",
        "temp_y_list=[]\n",
        "for year in temp_year_list:\n",
        "  temp=[product.innovativeness for product in temp_products if product.year==year]\n",
        "  temp_y_list.append(np.average(temp))\n",
        "plt.plot(temp_year_list,temp_y_list,label=\"LG\")\n",
        "\n",
        "temp_products=[product for product in temp_features if \"Motorola\" in product.name]\n",
        "temp_year_list=sorted(list(set([product.year for product in temp_products])))\n",
        "temp_y_list=[]\n",
        "for year in temp_year_list:\n",
        "  temp=[product.innovativeness for product in temp_products if product.year==year]\n",
        "  temp_y_list.append(np.average(temp))\n",
        "plt.plot(temp_year_list,temp_y_list,label=\"Motorola\")\n",
        "\n",
        "plt.xticks(year_list)\n",
        "\n",
        "plt.xlabel(\"Year\", fontsize=15)\n",
        "plt.ylabel(\"Average Product Innovativeness\",fontsize=15)\n",
        "plt.legend(loc=\"upper left\",fontsize=15)\n",
        "\n",
        "plt.savefig(output_directory+\"/Featurephone_firm.jpg\",dpi=600,transparent=True,bbox_inches=\"tight\")"
      ],
      "metadata": {
        "id": "I3__6p0jWaFX"
      },
      "execution_count": null,
      "outputs": []
    },
    {
      "cell_type": "code",
      "source": [
        "fig=plt.figure(figsize=(20,10))\n",
        "\n",
        "temp_products=[product for product in temp_watchs if \"Apple\" in product.name]\n",
        "temp_year_list=sorted(list(set([product.year for product in temp_products])))\n",
        "temp_y_list=[]\n",
        "for year in temp_year_list:\n",
        "  temp=[product.innovativeness for product in temp_products if product.year==year]\n",
        "  temp_y_list.append(np.average(temp))\n",
        "plt.plot(temp_year_list,temp_y_list,label=\"Apple\")\n",
        "\n",
        "temp_products=[product for product in temp_watchs if \"Samsung\" in product.name]\n",
        "temp_year_list=sorted(list(set([product.year for product in temp_products])))\n",
        "temp_y_list=[]\n",
        "for year in temp_year_list:\n",
        "  temp=[product.innovativeness for product in temp_products if product.year==year]\n",
        "  temp_y_list.append(np.average(temp))\n",
        "plt.plot(temp_year_list,temp_y_list,label=\"Samsung\")\n",
        "\n",
        "temp_products=[product for product in temp_watchs if \"Nokia\" in product.name]\n",
        "temp_year_list=sorted(list(set([product.year for product in temp_products])))\n",
        "temp_y_list=[]\n",
        "for year in temp_year_list:\n",
        "  temp=[product.innovativeness for product in temp_products if product.year==year]\n",
        "  temp_y_list.append(np.average(temp))\n",
        "plt.plot(temp_year_list,temp_y_list,label=\"Nokia\")\n",
        "\n",
        "temp_products=[product for product in temp_watchs if \"LG\" in product.name]\n",
        "temp_year_list=sorted(list(set([product.year for product in temp_products])))\n",
        "temp_y_list=[]\n",
        "for year in temp_year_list:\n",
        "  temp=[product.innovativeness for product in temp_products if product.year==year]\n",
        "  temp_y_list.append(np.average(temp))\n",
        "plt.plot(temp_year_list,temp_y_list,label=\"LG\")\n",
        "\n",
        "temp_products=[product for product in temp_watchs if \"Motorola\" in product.name]\n",
        "temp_year_list=sorted(list(set([product.year for product in temp_products])))\n",
        "temp_y_list=[]\n",
        "for year in temp_year_list:\n",
        "  temp=[product.innovativeness for product in temp_products if product.year==year]\n",
        "  temp_y_list.append(np.average(temp))\n",
        "plt.plot(temp_year_list,temp_y_list,label=\"Motorola\")\n",
        "\n",
        "temp_products=[product for product in temp_watchs if \"Xiaomi\" in product.name]\n",
        "temp_year_list=sorted(list(set([product.year for product in temp_products])))\n",
        "temp_y_list=[]\n",
        "for year in temp_year_list:\n",
        "  temp=[product.innovativeness for product in temp_products if product.year==year]\n",
        "  temp_y_list.append(np.average(temp))\n",
        "plt.plot(temp_year_list,temp_y_list,label=\"Xiaomi\")\n",
        "\n",
        "plt.xticks(year_list)\n",
        "plt.xlabel(\"Year\", fontsize=15)\n",
        "plt.ylabel(\"Average Product Innovative Degree\",fontsize=15)\n",
        "plt.legend(loc=\"upper left\",fontsize=15)\n",
        "\n",
        "plt.savefig(output_directory+\"/Watch_firm.jpg\",dpi=600,transparent=True,bbox_inches=\"tight\")"
      ],
      "metadata": {
        "id": "1utXg3qnWl5q"
      },
      "execution_count": null,
      "outputs": []
    },
    {
      "cell_type": "code",
      "source": [
        "fig=plt.figure(figsize=(20,10))\n",
        "\n",
        "temp_products=[product for product in temp_tablets if \"Apple\" in product.name]\n",
        "temp_year_list=sorted(list(set([product.year for product in temp_products])))\n",
        "temp_y_list=[]\n",
        "for year in temp_year_list:\n",
        "  temp=[product.innovativeness for product in temp_products if product.year==year]\n",
        "  temp_y_list.append(np.average(temp))\n",
        "plt.plot(temp_year_list,temp_y_list,label=\"Apple\")\n",
        "\n",
        "temp_products=[product for product in temp_tablets if \"Samsung\" in product.name]\n",
        "temp_year_list=sorted(list(set([product.year for product in temp_products])))\n",
        "temp_y_list=[]\n",
        "for year in temp_year_list:\n",
        "  temp=[product.innovativeness for product in temp_products if product.year==year]\n",
        "  temp_y_list.append(np.average(temp))\n",
        "plt.plot(temp_year_list,temp_y_list,label=\"Samsung\")\n",
        "\n",
        "temp_products=[product for product in temp_tablets if \"LG\" in product.name]\n",
        "temp_year_list=sorted(list(set([product.year for product in temp_products])))\n",
        "temp_y_list=[]\n",
        "for year in temp_year_list:\n",
        "  temp=[product.innovativeness for product in temp_products if product.year==year]\n",
        "  temp_y_list.append(np.average(temp))\n",
        "plt.plot(temp_year_list,temp_y_list,label=\"LG\")\n",
        "\n",
        "temp_products=[product for product in temp_tablets if \"Amazon\" in product.name]\n",
        "temp_year_list=sorted(list(set([product.year for product in temp_products])))\n",
        "temp_y_list=[]\n",
        "for year in temp_year_list:\n",
        "  temp=[product.innovativeness for product in temp_products if product.year==year]\n",
        "  temp_y_list.append(np.average(temp))\n",
        "plt.plot(temp_year_list,temp_y_list,label=\"Amazon\")\n",
        "\n",
        "temp_products=[product for product in temp_tablets if \"Xiaomi\" in product.name]\n",
        "temp_year_list=sorted(list(set([product.year for product in temp_products])))\n",
        "temp_y_list=[]\n",
        "for year in temp_year_list:\n",
        "  temp=[product.innovativeness for product in temp_products if product.year==year]\n",
        "  temp_y_list.append(np.average(temp))\n",
        "plt.plot(temp_year_list,temp_y_list,label=\"Xiaomi\")\n",
        "\n",
        "plt.xticks(year_list)\n",
        "plt.xlabel(\"Year\", fontsize=15)\n",
        "plt.ylabel(\"Average Product Innovativeness\",fontsize=15)\n",
        "plt.legend(loc=\"upper left\",fontsize=15)\n",
        "\n",
        "\n",
        "plt.savefig(output_directory+\"/Tablet_firm.jpg\",dpi=600,transparent=True,bbox_inches=\"tight\")"
      ],
      "metadata": {
        "id": "SM3MNo4zWmwv"
      },
      "execution_count": null,
      "outputs": []
    },
    {
      "cell_type": "code",
      "source": [
        "for year in year_list:\n",
        "  temp_dict=dict(zip(\n",
        "      [product.name for product in product_list if product.year==year],\n",
        "      [product.innovativeness for product in product_list if product.year==year]\n",
        "  ))\n",
        "  temp_str=\"\"\n",
        "  temp_list=sorted(temp_dict.items(), key=lambda item:-item[1])[0:5]\n",
        "  for i in range(len(temp_list)):\n",
        "    x=temp_list[i]\n",
        "    temp_str+=f'%s (%s)'%(str(x[0]),str(round(x[1],2)))\n",
        "    temp_str+=', '\n",
        "\n",
        "  print(year,temp_str)"
      ],
      "metadata": {
        "id": "_jB9jjpTWtZZ"
      },
      "execution_count": null,
      "outputs": []
    },
    {
      "cell_type": "markdown",
      "source": [
        "# Phylogenetic Tree"
      ],
      "metadata": {
        "id": "W-KvDj3kXTBP"
      }
    },
    {
      "cell_type": "code",
      "source": [
        "import networkx as nx\n",
        "from networkx.drawing.nx_pydot import graphviz_layout\n",
        "\n",
        "temp_G=nx.DiGraph()\n",
        "\n",
        "temp_products=[product for product in product_list if \"Apple\" in product.name]\n",
        "for product in temp_products:\n",
        "  while True:\n",
        "    if product.ancestor:\n",
        "      temp_G.add_edge(product.ancestor.name,product.name)\n",
        "      product=product.ancestor\n",
        "    else:\n",
        "      temp_G.add_edge('Root',product.name)\n",
        "      break\n",
        "\n",
        "pos1=graphviz_layout(temp_G, prog=\"dot\",root='Root')\n",
        "temp_pos=pos1\n",
        "pos1={}\n",
        "for key in list(temp_pos.keys()):\n",
        "  pos1[key]=[0,0]\n",
        "  pos1[key][0]=(temp_pos[key][0])\n",
        "  pos1[key][1]=(-temp_pos[key][1])\n"
      ],
      "metadata": {
        "id": "41Oe9WABXYqy"
      },
      "execution_count": null,
      "outputs": []
    },
    {
      "cell_type": "code",
      "source": [
        "from sklearn.preprocessing import minmax_scale\n",
        "\n",
        "temp_scaled=minmax_scale([product.innovativeness for product in product_list], axis=0, copy=True)\n",
        "\n",
        "i=0\n",
        "for product in product_list:\n",
        "  product.ancestors=temp_scaled[i]\n",
        "  i+=1"
      ],
      "metadata": {
        "id": "RCqoJxPQ6Dj7"
      },
      "execution_count": null,
      "outputs": []
    },
    {
      "cell_type": "code",
      "source": [
        "import re\n",
        "\n",
        "fig=plt.figure(figsize=(20,20))\n",
        "ax=plt.subplot(111)\n",
        "\n",
        "for product_name in temp_G.nodes():\n",
        "  temp_product=[product for product in product_list if product.name==product_name]\n",
        "  if temp_product:\n",
        "    temp_product=temp_product[0]\n",
        "    if temp_product.ancestor:\n",
        "      nx.draw_networkx_edges(temp_G,\n",
        "                            pos=pos1,\n",
        "                            alpha=temp_product.ancestors,\n",
        "                            edgelist=[(temp_product.name,temp_product.ancestor.name)],\n",
        "                            width=5,\n",
        "                            arrows=False,\n",
        "                            connectionstyle=\"arc3,rad=1\",\n",
        "                            edge_color=\"red\",\n",
        "                            node_size=0)\n",
        "    else:\n",
        "      nx.draw_networkx_edges(temp_G,\n",
        "                            pos=pos1,\n",
        "                            alpha=temp_product.ancestors,\n",
        "                            edgelist=[(temp_product.name,\"Root\")],\n",
        "                            width=5,\n",
        "                            arrows=False,\n",
        "                            connectionstyle=\"arc3,rad=1\",\n",
        "                            edge_color=\"red\",\n",
        "                            node_size=0)\n",
        "\n",
        "for n in temp_G.nodes():\n",
        "  if \"iPhone\" in n:\n",
        "    color=\"red\"\n",
        "    label='iPhone'\n",
        "  elif \"iPad\" in n:\n",
        "    color=\"blue\"\n",
        "    label='iPad'\n",
        "  elif 'Apple Watch' in n:\n",
        "    color=\"green\"\n",
        "    label='Apple Watch'\n",
        "  else:\n",
        "    color=\"black\"\n",
        "    label='Others'\n",
        "\n",
        "  if n==\"Root\":\n",
        "    ax.text(pos1[n][0],pos1[n][1],re.sub('Apple ','',n),fontsize=20,rotation=20,color=color,fontweight='bold')\n",
        "\n",
        "  else:\n",
        "    ax.text(pos1[n][0],pos1[n][1],re.sub('Apple ','',n),fontsize=10,rotation=20,color=color)\n",
        "\n",
        "\n",
        "\n",
        "arr1 = ax.arrow(0,0, 0,0, head_width=0, color='red', length_includes_head=True,label=\"iPhone\")\n",
        "arr2 = ax.arrow(0,0, 0,0, head_width=0, color='blue', length_includes_head=True,label=\"iPad\")\n",
        "arr3 = ax.arrow(0,0, 0,0, head_width=0, color='green', length_includes_head=True,label=\"Apple Watch\")\n",
        "arr4 = ax.arrow(0,0, 0,0, head_width=0, color='black', length_includes_head=True,label=\"Others\")\n",
        "\n",
        "ax.legend([arr1,arr2,arr3,arr4],[\"iPhone\",\"iPad\",\"Apple Watch\",\"Others\"],loc=\"lower left\",fontsize=20)\n",
        "\n",
        "ax.spines[\"top\"].set_visible(False)\n",
        "ax.spines[\"left\"].set_visible(False)\n",
        "ax.spines[\"right\"].set_visible(False)\n",
        "ax.spines[\"bottom\"].set_visible(False)\n",
        "\n",
        "plt.savefig(output_directory+\"/Apple Tree.jpg\",dpi=600,transparent=True,bbox_inches=\"tight\")"
      ],
      "metadata": {
        "id": "-y9wSFAHXsZj"
      },
      "execution_count": null,
      "outputs": []
    },
    {
      "cell_type": "code",
      "source": [
        "temp_G=nx.DiGraph()\n",
        "\n",
        "temp_products=[product for product in product_list if \"Apple\" in product.name]\n",
        "temp_products+=[product for product in product_list if \"Sewon\" in product.name]\n",
        "temp_products+=[product for product in product_list if 'Kyocera' in product.name]\n",
        "\n",
        "for product in temp_products:\n",
        "  while True:\n",
        "    if product.ancestor:\n",
        "      temp_G.add_edge(product.ancestor.name,product.name)\n",
        "      product=product.ancestor\n",
        "    else:\n",
        "      temp_G.add_edge('Root',product.name)\n",
        "      break\n",
        "\n",
        "pos1=graphviz_layout(temp_G, prog=\"dot\",root='Root')\n",
        "temp_pos=pos1\n",
        "pos1={}\n",
        "for key in list(temp_pos.keys()):\n",
        "  pos1[key]=[0,0]\n",
        "  pos1[key][0]=(temp_pos[key][0])\n",
        "  pos1[key][1]=(-temp_pos[key][1])\n",
        "\n",
        "\n",
        "fig=plt.figure(figsize=(20,20))\n",
        "ax=plt.subplot(111)\n",
        "\n",
        "\n",
        "for product_name in temp_G.nodes():\n",
        "  temp_product=[product for product in product_list if product.name==product_name]\n",
        "  if temp_product:\n",
        "    temp_product=temp_product[0]\n",
        "    if temp_product.ancestor:\n",
        "      nx.draw_networkx_edges(temp_G,\n",
        "                            pos=pos1,\n",
        "                            alpha=temp_product.ancestors,\n",
        "                            edgelist=[(temp_product.name,temp_product.ancestor.name)],\n",
        "                            width=5,\n",
        "                            arrows=False,\n",
        "                            connectionstyle=\"arc3,rad=1\",\n",
        "                            edge_color=\"red\",\n",
        "                            node_size=0)\n",
        "    else:\n",
        "      nx.draw_networkx_edges(temp_G,\n",
        "                            pos=pos1,\n",
        "                            alpha=temp_product.ancestors,\n",
        "                            edgelist=[(temp_product.name,\"Root\")],\n",
        "                            width=5,\n",
        "                            arrows=False,\n",
        "                            connectionstyle=\"arc3,rad=1\",\n",
        "                            edge_color=\"red\",\n",
        "                            node_size=0)\n",
        "\n",
        "\n",
        "for n in temp_G.nodes():\n",
        "  if \"Apple\" in n:\n",
        "    color=\"red\"\n",
        "  elif \"Sewon\" in n:\n",
        "    color=\"blue\"\n",
        "  elif 'Kyocera' in n:\n",
        "    color=\"green\"\n",
        "  else:\n",
        "    color=\"black\"\n",
        "\n",
        "  if n==\"Root\":\n",
        "    ax.text(pos1[n][0],pos1[n][1],n.split(' ')[0],fontsize=20,rotation=20,color=color,fontweight='bold')\n",
        "\n",
        "  else:\n",
        "    ax.text(pos1[n][0],pos1[n][1],n.split(' ')[0],fontsize=10,rotation=20,color=color)\n",
        "\n",
        "\n",
        "arr1 = ax.arrow(0,0, 0,0, head_width=0, color='red', length_includes_head=True,label=\"Apple\")\n",
        "arr2 = ax.arrow(0,0, 0,0, head_width=0, color='blue', length_includes_head=True,label=\"Sewon\")\n",
        "arr3 = ax.arrow(0,0, 0,0, head_width=0, color='green', length_includes_head=True,label=\"Kyocera\")\n",
        "arr4 = ax.arrow(0,0, 0,0, head_width=0, color='black', length_includes_head=True,label=\"Others\")\n",
        "\n",
        "ax.legend([arr1,arr2,arr3,arr4],[\"Apple\",\"Sewon\",\"Kyocera\",\"Others\"],loc=\"lower left\",fontsize=20)\n",
        "\n",
        "ax.spines[\"top\"].set_visible(False)\n",
        "ax.spines[\"left\"].set_visible(False)\n",
        "ax.spines[\"right\"].set_visible(False)\n",
        "ax.spines[\"bottom\"].set_visible(False)\n",
        "\n",
        "plt.savefig(output_directory+\"/Apple Sewon Kyocera Tree_color.jpg\",dpi=600,transparent=True,bbox_inches=\"tight\")"
      ],
      "metadata": {
        "id": "YLeMZJdXX7hW"
      },
      "execution_count": null,
      "outputs": []
    },
    {
      "cell_type": "code",
      "source": [
        "temp_G=nx.DiGraph()\n",
        "\n",
        "temp_products_name=[\n",
        "    'Apple Watch Series 7 Aluminum', 'Apple iPad Pro 12.9 (2021)','Apple iPhone 13 Pro Max','Samsung Galaxy Z Flip3 5G','Apple iPhone 13 Pro','Nokia 9210i Communicator'\n",
        "]\n",
        "\n",
        "temp_products=[product for product in product_list if product.name in temp_products_name]\n",
        "#temp_products+=[product for product in product_list if \"Nokia\" in product.name]\n",
        "\n",
        "for product in temp_products:\n",
        "  while True:\n",
        "    if product.ancestor:\n",
        "      temp_G.add_edge(product.ancestor.name,product.name)\n",
        "      product=product.ancestor\n",
        "    else:\n",
        "      temp_G.add_edge('Root',product.name)\n",
        "      break\n",
        "\n",
        "\n",
        "pos1=graphviz_layout(temp_G, prog=\"dot\",root='Root')\n",
        "temp_pos=pos1\n",
        "pos1={}\n",
        "for key in list(temp_pos.keys()):\n",
        "  pos1[key]=[0,0]\n",
        "  pos1[key][0]=(temp_pos[key][0])\n",
        "  pos1[key][1]=(-temp_pos[key][1])\n",
        "\n",
        "\n",
        "fig, ax=plt.subplots(figsize=(20,20))\n",
        "\n",
        "for product_name in temp_G.nodes():\n",
        "  temp_product=[product for product in product_list if product.name==product_name]\n",
        "  if temp_product:\n",
        "    temp_product=temp_product[0]\n",
        "    if temp_product.ancestor:\n",
        "      nx.draw_networkx_edges(temp_G,\n",
        "                            pos=pos1,\n",
        "                            #alpha=temp_product.ancestors,\n",
        "                            alpha=1,\n",
        "                            edgelist=[(temp_product.name,temp_product.ancestor.name)],\n",
        "                            width=5,\n",
        "                            arrows=False,\n",
        "                            connectionstyle=\"arc3,rad=1\",\n",
        "                            edge_color=\"red\",\n",
        "                            node_size=0)\n",
        "    else:\n",
        "      nx.draw_networkx_edges(temp_G,\n",
        "                            pos=pos1,\n",
        "                            #alpha=temp_product.ancestors,\n",
        "                            alpha=1,\n",
        "                            edgelist=[(temp_product.name,\"Root\")],\n",
        "                            width=5,\n",
        "                            arrows=False,\n",
        "                            connectionstyle=\"arc3,rad=1\",\n",
        "                            edge_color=\"red\",\n",
        "                            node_size=0)\n",
        "\n",
        "for n in temp_G.nodes():\n",
        "  if n==\"Root\":\n",
        "    ax.text(pos1[n][0],pos1[n][1],n,fontsize=30,rotation=20,fontweight=\"bold\")\n",
        "  else:\n",
        "    ax.text(pos1[n][0],pos1[n][1],n,fontsize=15,rotation=20)\n",
        "\n",
        "ax.spines[\"top\"].set_visible(False)\n",
        "ax.spines[\"left\"].set_visible(False)\n",
        "ax.spines[\"right\"].set_visible(False)\n",
        "ax.spines[\"bottom\"].set_visible(False)\n",
        "\n",
        "\n",
        "# Zoom in 효과- Apple\n",
        "axins=ax.inset_axes([-0.4, 0.3, 0.3, 0.9])\n",
        "for product_name in temp_G.nodes():\n",
        "  temp_product=[product for product in product_list if product.name==product_name]\n",
        "  if temp_product:\n",
        "    temp_product=temp_product[0]\n",
        "    if temp_product.ancestor:\n",
        "      nx.draw_networkx_edges(temp_G,\n",
        "                            pos=pos1,\n",
        "                            alpha=1,\n",
        "                            edgelist=[(temp_product.name,temp_product.ancestor.name)],\n",
        "                            width=5,\n",
        "                            arrows=False,\n",
        "                            connectionstyle=\"arc3,rad=1\",\n",
        "                            edge_color=\"red\",\n",
        "                            node_size=0,\n",
        "                            ax=axins)\n",
        "    else:\n",
        "      nx.draw_networkx_edges(temp_G,\n",
        "                            pos=pos1,\n",
        "                            alpha=1,\n",
        "                            edgelist=[(temp_product.name,\"Root\")],\n",
        "                            width=5,\n",
        "                            arrows=False,\n",
        "                            connectionstyle=\"arc3,rad=1\",\n",
        "                            edge_color=\"red\",\n",
        "                            node_size=0,\n",
        "                            ax=axins)\n",
        "\n",
        "x1, x2, y1, y2 = 100 , 400, -1200, -200\n",
        "axins.set_xlim(x1, x2)\n",
        "axins.set_ylim(y1, y2)\n",
        "axins.set_xticklabels([])\n",
        "axins.set_yticklabels([])\n",
        "\n",
        "for temp_ax in ['top','bottom','left','right']:\n",
        "  axins.spines[temp_ax].set_color('red')\n",
        "  axins.spines[temp_ax].set_linewidth(5)\n",
        "  axins.spines[temp_ax].set_linestyle('dotted')\n",
        "\n",
        "for n in temp_G.nodes():\n",
        "  if x1<=pos1[n][0]<=x2:\n",
        "    if y1<=pos1[n][1]<=y2:\n",
        "      axins.text(pos1[n][0],pos1[n][1],n,fontsize=25,rotation=20)\n",
        "ax.indicate_inset_zoom(axins, edgecolor=\"red\",linewidth=5,linestyle=\"dotted\")\n",
        "\n",
        "\n",
        "# Zoom in 효과 - Nokia\n",
        "axins2=ax.inset_axes([-0.2, -0.1, 0.3, 0.3])\n",
        "for product_name in temp_G.nodes():\n",
        "  temp_product=[product for product in product_list if product.name==product_name]\n",
        "  if temp_product:\n",
        "    temp_product=temp_product[0]\n",
        "    if temp_product.ancestor:\n",
        "      nx.draw_networkx_edges(temp_G,\n",
        "                            pos=pos1,\n",
        "                            alpha=1,\n",
        "                            edgelist=[(temp_product.name,temp_product.ancestor.name)],\n",
        "                            width=5,\n",
        "                            arrows=False,\n",
        "                            connectionstyle=\"arc3,rad=1\",\n",
        "                            edge_color=\"red\",\n",
        "                            node_size=0,\n",
        "                            ax=axins2)\n",
        "    else:\n",
        "      nx.draw_networkx_edges(temp_G,\n",
        "                            pos=pos1,\n",
        "                            alpha=1,\n",
        "                            edgelist=[(temp_product.name,\"Root\")],\n",
        "                            width=5,\n",
        "                            arrows=False,\n",
        "                            connectionstyle=\"arc3,rad=1\",\n",
        "                            edge_color=\"red\",\n",
        "                            node_size=0,\n",
        "                            ax=axins2)\n",
        "\n",
        "x1, x2, y1, y2 = 800 , 900, -1700, -1500\n",
        "axins2.set_xlim(x1, x2)\n",
        "axins2.set_ylim(y1, y2)\n",
        "axins2.set_xticklabels([])\n",
        "axins2.set_yticklabels([])\n",
        "\n",
        "for temp_ax in ['top','bottom','left','right']:\n",
        "  axins2.spines[temp_ax].set_color('green')\n",
        "  axins2.spines[temp_ax].set_linewidth(5)\n",
        "  axins2.spines[temp_ax].set_linestyle('dotted')\n",
        "\n",
        "\n",
        "for n in temp_G.nodes():\n",
        "  if x1<=pos1[n][0]<=x2:\n",
        "    if y1<=pos1[n][1]<=y2:\n",
        "      axins2.text(pos1[n][0],pos1[n][1],n,fontsize=25,rotation=20)\n",
        "ax.indicate_inset_zoom(axins2, edgecolor=\"green\",linewidth=5,linestyle=\"dotted\")\n",
        "\n",
        "# Zoom in 효과- Samsung\n",
        "axins3=ax.inset_axes([1.2, 0.3, 0.2, 0.8])\n",
        "for product_name in temp_G.nodes():\n",
        "  temp_product=[product for product in product_list if product.name==product_name]\n",
        "  if temp_product:\n",
        "    temp_product=temp_product[0]\n",
        "    if temp_product.ancestor:\n",
        "      nx.draw_networkx_edges(temp_G,\n",
        "                            pos=pos1,\n",
        "                            alpha=1,\n",
        "                            edgelist=[(temp_product.name,temp_product.ancestor.name)],\n",
        "                            width=5,\n",
        "                            arrows=False,\n",
        "                            connectionstyle=\"arc3,rad=1\",\n",
        "                            edge_color=\"red\",\n",
        "                            node_size=0,\n",
        "                            ax=axins3)\n",
        "    else:\n",
        "      nx.draw_networkx_edges(temp_G,\n",
        "                            pos=pos1,\n",
        "                            alpha=1,\n",
        "                            edgelist=[(temp_product.name,\"Root\")],\n",
        "                            width=5,\n",
        "                            arrows=False,\n",
        "                            connectionstyle=\"arc3,rad=1\",\n",
        "                            edge_color=\"red\",\n",
        "                            node_size=0,\n",
        "                            ax=axins3)\n",
        "\n",
        "for temp_ax in ['top','bottom','left','right']:\n",
        "  axins3.spines[temp_ax].set_color('blue')\n",
        "  axins3.spines[temp_ax].set_linewidth(5)\n",
        "  axins3.spines[temp_ax].set_linestyle('dotted')\n",
        "\n",
        "x1, x2, y1, y2 = 1050 , 1100, -800, 0\n",
        "axins3.set_xlim(x1, x2)\n",
        "axins3.set_ylim(y1, y2)\n",
        "axins3.set_xticklabels([])\n",
        "axins3.set_yticklabels([])\n",
        "\n",
        "for n in temp_G.nodes():\n",
        "  if x1<=pos1[n][0]<=x2:\n",
        "    if y1<=pos1[n][1]<=y2:\n",
        "      axins3.text(pos1[n][0],pos1[n][1],n,fontsize=25,rotation=20)\n",
        "\n",
        "ax.indicate_inset_zoom(axins3, edgecolor=\"blue\",linewidth=5,linestyle=\"dotted\")\n",
        "\n",
        "plt.savefig(output_directory+\"/Lineage Sample_Zoom.jpg\",dpi=600,transparent=True,bbox_inches=\"tight\")"
      ],
      "metadata": {
        "id": "MpniTWozYENv"
      },
      "execution_count": null,
      "outputs": []
    },
    {
      "cell_type": "code",
      "source": [
        "len(product_list)"
      ],
      "metadata": {
        "id": "DShmJGALD7Rh"
      },
      "execution_count": null,
      "outputs": []
    },
    {
      "cell_type": "code",
      "source": [
        "temp_firms=[product.name.split(' ')[0] for product in product_list]\n",
        "firms=[firm[0] for firm in Counter(temp_firms).most_common()[0:9]]+[\"Apple\"]"
      ],
      "metadata": {
        "id": "AVKaLSuXk-oK"
      },
      "execution_count": null,
      "outputs": []
    },
    {
      "cell_type": "code",
      "source": [
        "temp_products=[product for product in product_list if product.name!='Samsung :) Smiley' if product.name.split(' ')[0] in firms]\n",
        "len(temp_products)"
      ],
      "metadata": {
        "id": "hM576pQ6lUWr"
      },
      "execution_count": null,
      "outputs": []
    },
    {
      "cell_type": "code",
      "source": [
        "temp_G=nx.DiGraph()\n",
        "\n",
        "for product in temp_products:\n",
        "  while True:\n",
        "    if product.ancestor:\n",
        "      temp_G.add_edge(product.ancestor.name,product.name)\n",
        "      product=product.ancestor\n",
        "    else:\n",
        "      temp_G.add_edge('Root',product.name)\n",
        "      break\n",
        "\n",
        "pos1=graphviz_layout(temp_G, prog=\"dot\",root='Root')\n",
        "temp_pos=pos1\n",
        "pos1={}\n",
        "for key in list(temp_pos.keys()):\n",
        "  pos1[key]=[0,0]\n",
        "  pos1[key][0]=(temp_pos[key][0])\n",
        "  pos1[key][1]=(-temp_pos[key][1])\n",
        "\n",
        "\n",
        "fig=plt.figure(figsize=(300,100))\n",
        "ax=plt.subplot(111)\n",
        "\n",
        "for product_name in temp_G.nodes():\n",
        "  temp_product=[product for product in product_list if product.name==product_name]\n",
        "  if temp_product:\n",
        "    temp_product=temp_product[0]\n",
        "    if temp_product.ancestor:\n",
        "      nx.draw_networkx_edges(temp_G,\n",
        "                            pos=pos1,\n",
        "                            alpha=1,\n",
        "                             #temp_product.ancestors,\n",
        "                            edgelist=[(temp_product.name,temp_product.ancestor.name)],\n",
        "                            width=5,\n",
        "                            arrows=False,\n",
        "                            connectionstyle=\"arc3,rad=1\",\n",
        "                            edge_color=\"red\",\n",
        "                            node_size=0)\n",
        "    else:\n",
        "      nx.draw_networkx_edges(temp_G,\n",
        "                            pos=pos1,\n",
        "                            alpha=1,\n",
        "                             #temp_product.ancestors,\n",
        "                            edgelist=[(temp_product.name,\"Root\")],\n",
        "                            width=5,\n",
        "                            arrows=False,\n",
        "                            connectionstyle=\"arc3,rad=1\",\n",
        "                            edge_color=\"red\",\n",
        "                            node_size=0)\n",
        "\n",
        "\n",
        "#plt.savefig(output_directory+\"/All Tree.jpg\",dpi=600,transparent=True,bbox_inches=\"tight\")"
      ],
      "metadata": {
        "id": "mcAl3rI-Wwch"
      },
      "execution_count": null,
      "outputs": []
    },
    {
      "cell_type": "code",
      "source": [
        "fig=plt.figure(figsize=(300,100))\n",
        "ax=plt.subplot(111)\n",
        "\n",
        "for product_name in temp_G.nodes():\n",
        "  temp_product=[product for product in product_list if product.name==product_name]\n",
        "  if temp_product:\n",
        "    temp_product=temp_product[0]\n",
        "    if temp_product.ancestor:\n",
        "      nx.draw_networkx_edges(temp_G,\n",
        "                            pos=pos1,\n",
        "                            alpha=1,\n",
        "                             #temp_product.ancestors,\n",
        "                            edgelist=[(temp_product.name,temp_product.ancestor.name)],\n",
        "                            width=5,\n",
        "                            arrows=False,\n",
        "                            connectionstyle=\"arc3,rad=1\",\n",
        "                            edge_color=\"red\",\n",
        "                            node_size=0)\n",
        "    else:\n",
        "      nx.draw_networkx_edges(temp_G,\n",
        "                            pos=pos1,\n",
        "                            alpha=1,\n",
        "                             #temp_product.ancestors,\n",
        "                            edgelist=[(temp_product.name,\"Root\")],\n",
        "                            width=5,\n",
        "                            arrows=False,\n",
        "                            connectionstyle=\"arc3,rad=1\",\n",
        "                            edge_color=\"red\",\n",
        "                            node_size=0)\n",
        "\n",
        "\n"
      ],
      "metadata": {
        "id": "U87b8gnrk9kT"
      },
      "execution_count": null,
      "outputs": []
    },
    {
      "cell_type": "code",
      "source": [
        "fig=plt.figure(figsize=(300,100))\n",
        "ax=plt.subplot(111)\n",
        "\n",
        "for product_name in temp_G.nodes():\n",
        "  temp_product=[product for product in product_list if product.name==product_name]\n",
        "  if temp_product:\n",
        "    temp_product=temp_product[0]\n",
        "    if temp_product.ancestor:\n",
        "      nx.draw_networkx_edges(temp_G,\n",
        "                            pos=pos1,\n",
        "                            alpha=1,\n",
        "                             #temp_product.ancestors,\n",
        "                            edgelist=[(temp_product.name,temp_product.ancestor.name)],\n",
        "                            width=5,\n",
        "                            arrows=False,\n",
        "                            connectionstyle=\"arc3,rad=1\",\n",
        "                            edge_color=\"red\",\n",
        "                            node_size=0)\n",
        "    else:\n",
        "      nx.draw_networkx_edges(temp_G,\n",
        "                            pos=pos1,\n",
        "                            alpha=1,\n",
        "                             #temp_product.ancestors,\n",
        "                            edgelist=[(temp_product.name,\"Root\")],\n",
        "                            width=5,\n",
        "                            arrows=False,\n",
        "                            connectionstyle=\"arc3,rad=1\",\n",
        "                            edge_color=\"red\",\n",
        "                            node_size=0)\n",
        "\n",
        "\n",
        "\n",
        "for n in temp_G.nodes():\n",
        "  if n==\"Root\":\n",
        "    ax.text(pos1[n][0],pos1[n][1],n,fontsize=20,rotation=20,color=color,fontweight='bold')\n",
        "\n",
        "  else:\n",
        "    ax.text(pos1[n][0],pos1[n][1],n,fontsize=10,rotation=20,color=color)"
      ],
      "metadata": {
        "id": "g5N321N8cdvb"
      },
      "execution_count": null,
      "outputs": []
    },
    {
      "cell_type": "code",
      "source": [
        "fig=plt.figure(figsize=(600,100))\n",
        "ax=plt.subplot(111)\n",
        "\n",
        "for product_name in temp_G.nodes():\n",
        "  temp_product=[product for product in product_list if product.name==product_name]\n",
        "  if temp_product:\n",
        "    temp_product=temp_product[0]\n",
        "    if temp_product.ancestor:\n",
        "      nx.draw_networkx_edges(temp_G,\n",
        "                            pos=pos1,\n",
        "                            alpha=1,\n",
        "                             #temp_product.ancestors,\n",
        "                            edgelist=[(temp_product.name,temp_product.ancestor.name)],\n",
        "                            width=5,\n",
        "                            arrows=False,\n",
        "                            connectionstyle=\"arc3,rad=1\",\n",
        "                            edge_color=\"red\",\n",
        "                            node_size=0)\n",
        "    else:\n",
        "      nx.draw_networkx_edges(temp_G,\n",
        "                            pos=pos1,\n",
        "                            alpha=1,\n",
        "                             #temp_product.ancestors,\n",
        "                            edgelist=[(temp_product.name,\"Root\")],\n",
        "                            width=5,\n",
        "                            arrows=False,\n",
        "                            connectionstyle=\"arc3,rad=1\",\n",
        "                            edge_color=\"red\",\n",
        "                            node_size=0)\n",
        "\n",
        "\n",
        "\n",
        "for n in temp_G.nodes():\n",
        "  if n==\"Root\":\n",
        "    ax.text(pos1[n][0],pos1[n][1],n,fontsize=20,rotation=20,color=color,fontweight='bold')\n",
        "\n",
        "  else:\n",
        "    ax.text(pos1[n][0],pos1[n][1],n,fontsize=10,rotation=20,color=color)"
      ],
      "metadata": {
        "id": "xPujTj3aNExf"
      },
      "execution_count": null,
      "outputs": []
    },
    {
      "cell_type": "markdown",
      "source": [
        "# Robustness"
      ],
      "metadata": {
        "id": "aCW5hZkkYbTX"
      }
    },
    {
      "cell_type": "code",
      "source": [
        "temp_prob_list=[]\n",
        "for year in year_list:\n",
        "  temp_products=[product for product in product_list if product.year==year]\n",
        "  temp_genes=[]\n",
        "  threshold=5\n",
        "  for product in temp_products:\n",
        "    temp_genes+=product.raw_gene\n",
        "  temp_gene_dict=Counter(temp_genes)\n",
        "  temp_dict={n:temp_gene_dict[n] for n in temp_gene_dict.keys() if temp_gene_dict[n]>threshold}\n",
        "  temp_sum=sum(temp_dict.values())\n",
        "  temp_prob_dict=dict(zip(\n",
        "      [x for x in temp_dict.keys()],\n",
        "      [temp_dict[x]/temp_sum for x in temp_dict.keys()]))\n",
        "\n",
        "  temp_prob_list.append(temp_prob_dict)\n",
        "\n",
        "  for product in temp_products:\n",
        "    temp_prob=[temp_prob_dict[x] for x in product.raw_gene if x in temp_dict.keys()]\n",
        "    product.innovativeness=(-np.sum(np.log(temp_prob)))/len(temp_prob)\n",
        "\n",
        "temp_entropy_list=[]\n",
        "for item in temp_prob_list:\n",
        "  temp_entropy_list.append(np.sum([(-1)*item[x]*np.log(item[x]) for x in item.keys()]))"
      ],
      "metadata": {
        "id": "pssdgYZ2Yc5_"
      },
      "execution_count": null,
      "outputs": []
    },
    {
      "cell_type": "code",
      "source": [
        "fig=plt.figure(figsize=(20,10))\n",
        "for threshold in [0,1,2,5]:\n",
        "  temp_prob_list=[]\n",
        "  for year in year_list:\n",
        "    temp_products=[product for product in product_list if product.year==year]\n",
        "    temp_genes=[]\n",
        "    for product in temp_products:\n",
        "      temp_genes+=product.raw_gene\n",
        "    temp_gene_dict=Counter(temp_genes)\n",
        "    temp_dict={n:temp_gene_dict[n] for n in temp_gene_dict.keys() if temp_gene_dict[n]>threshold}\n",
        "    temp_sum=sum(temp_dict.values())\n",
        "    temp_prob_dict=dict(zip(\n",
        "        [x for x in temp_dict.keys()],\n",
        "        [temp_dict[x]/temp_sum for x in temp_dict.keys()]))\n",
        "\n",
        "    temp_prob_list.append(temp_prob_dict)\n",
        "\n",
        "    for product in temp_products:\n",
        "      temp_prob=[temp_prob_dict[x] for x in product.raw_gene if x in temp_dict.keys()]\n",
        "      product.average_information=(-np.sum(np.log(temp_prob)))/len(temp_prob)\n",
        "\n",
        "\n",
        "  temp_product=[product for product in product_list if product.name==\"Apple iPhone 13 Pro Max\"][0]\n",
        "  temp_product_lineage=[]\n",
        "  temp_product_lineage.append(temp_product)\n",
        "  while True:\n",
        "    temp_ancestor=temp_product.ancestor\n",
        "    if temp_ancestor:\n",
        "      temp_product_lineage.append(temp_ancestor)\n",
        "      temp_product=temp_ancestor\n",
        "    else:\n",
        "      break\n",
        "\n",
        "  temp_product_lineage.reverse()\n",
        "  key=temp_product_lineage[-1].name\n",
        "  temp_x_list=[]\n",
        "  for index in range(2,len(temp_product_lineage)):\n",
        "    temp_x_list.append(\n",
        "        np.average(\n",
        "            [\n",
        "            temp_product_lineage[index-2].average_information,\n",
        "            temp_product_lineage[index-1].average_information,\n",
        "            temp_product_lineage[index].average_information\n",
        "            ]\n",
        "        )\n",
        "    )\n",
        "\n",
        "\n",
        "  texts=[]\n",
        "  plt.plot([temp_product_lineage[x].year for x in range(2,len(temp_product_lineage))],temp_x_list,linewidth=5,alpha=0.5,label=\"Frequency threshold_%s\"%str(threshold))\n",
        "\n",
        "plt.xticks([year for year in range(1995,2022)])\n",
        "plt.legend(fontsize=15,loc=\"upper left\")\n",
        "plt.title(f\"Product Lineage Life Cycle of %s\"%str(temp_product_lineage[-1].name),fontsize=15)\n",
        "\n",
        "adjust_text(texts,arrowprops=dict(arrowstyle='->', color='red'))\n",
        "\n",
        "plt.xlabel(\"Year\", fontsize=15)\n",
        "plt.ylabel(\"Product Innovativeness\",fontsize=15)\n",
        "plt.savefig(output_directory+f\"/PLLC_robustness_%s.jpg\"%str(temp_product_lineage[-1].name),dpi=600,transparent=True,bbox_inches=\"tight\")"
      ],
      "metadata": {
        "id": "nvjW48q6Yl5f"
      },
      "execution_count": null,
      "outputs": []
    },
    {
      "cell_type": "code",
      "source": [
        "fig=plt.figure(figsize=(20,10))\n",
        "for threshold in [0,1,2,5]:\n",
        "  temp_prob_list=[]\n",
        "  for year in year_list:\n",
        "    temp_products=[product for product in product_list if product.year==year]\n",
        "    temp_genes=[]\n",
        "    for product in temp_products:\n",
        "      temp_genes+=product.raw_gene\n",
        "    temp_gene_dict=Counter(temp_genes)\n",
        "    temp_dict={n:temp_gene_dict[n] for n in temp_gene_dict.keys() if temp_gene_dict[n]>threshold}\n",
        "    temp_sum=sum(temp_dict.values())\n",
        "    temp_prob_dict=dict(zip(\n",
        "        [x for x in temp_dict.keys()],\n",
        "        [temp_dict[x]/temp_sum for x in temp_dict.keys()]))\n",
        "\n",
        "    temp_prob_list.append(temp_prob_dict)\n",
        "\n",
        "    for product in temp_products:\n",
        "      temp_prob=[temp_prob_dict[x] for x in product.raw_gene if x in temp_dict.keys()]\n",
        "      product.average_information=(-np.sum(np.log(temp_prob)))/len(temp_prob)\n",
        "\n",
        "\n",
        "  temp_product=[product for product in product_list if product.name==\"Samsung Galaxy Z Flip3 5G\"][0]\n",
        "  temp_product_lineage=[]\n",
        "  temp_product_lineage.append(temp_product)\n",
        "  while True:\n",
        "    temp_ancestor=temp_product.ancestor\n",
        "    if temp_ancestor:\n",
        "      temp_product_lineage.append(temp_ancestor)\n",
        "      temp_product=temp_ancestor\n",
        "    else:\n",
        "      break\n",
        "\n",
        "  temp_product_lineage.reverse()\n",
        "  key=temp_product_lineage[-1].name\n",
        "  temp_x_list=[]\n",
        "  for index in range(2,len(temp_product_lineage)):\n",
        "    temp_x_list.append(\n",
        "        np.average(\n",
        "            [\n",
        "            temp_product_lineage[index-2].average_information,\n",
        "            temp_product_lineage[index-1].average_information,\n",
        "            temp_product_lineage[index].average_information\n",
        "            ]\n",
        "        )\n",
        "    )\n",
        "\n",
        "\n",
        "  texts=[]\n",
        "  plt.plot([temp_product_lineage[x].year for x in range(2,len(temp_product_lineage))],temp_x_list,linewidth=5,alpha=0.5,label=\"Frequency threshold_%s\"%str(threshold))\n",
        "\n",
        "plt.xticks([year for year in range(1995,2022)])\n",
        "plt.legend(fontsize=15,loc=\"upper left\")\n",
        "plt.title(f\"Product Lineage Life Cycle of %s\"%str(temp_product_lineage[-1].name),fontsize=15)\n",
        "\n",
        "adjust_text(texts,arrowprops=dict(arrowstyle='->', color='red'))\n",
        "\n",
        "plt.xlabel(\"Year\", fontsize=15)\n",
        "plt.ylabel(\"Product Innovativeness\",fontsize=15)\n",
        "plt.savefig(output_directory+f\"/PLLC_robustness_%s.jpg\"%str(temp_product_lineage[-1].name),dpi=600,transparent=True,bbox_inches=\"tight\")"
      ],
      "metadata": {
        "id": "wUB_9057Yvt_"
      },
      "execution_count": null,
      "outputs": []
    }
  ]
}