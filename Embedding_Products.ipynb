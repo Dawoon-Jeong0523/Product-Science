{
  "nbformat": 4,
  "nbformat_minor": 0,
  "metadata": {
    "colab": {
      "private_outputs": true,
      "provenance": [],
      "machine_shape": "hm",
      "mount_file_id": "1uhpdKhtNlt-5FWYJBdXFvjDqMEy1iH9t",
      "authorship_tag": "ABX9TyNkR0KH92tu3s+sHaUO2v6O",
      "include_colab_link": true
    },
    "kernelspec": {
      "name": "python3",
      "display_name": "Python 3"
    },
    "language_info": {
      "name": "python"
    }
  },
  "cells": [
    {
      "cell_type": "markdown",
      "metadata": {
        "id": "view-in-github",
        "colab_type": "text"
      },
      "source": [
        "<a href=\"https://colab.research.google.com/github/Dawoon-Jeong0523/Product-Science/blob/main/Embedding_Products.ipynb\" target=\"_parent\"><img src=\"https://colab.research.google.com/assets/colab-badge.svg\" alt=\"Open In Colab\"/></a>"
      ]
    },
    {
      "cell_type": "markdown",
      "source": [
        "# Config"
      ],
      "metadata": {
        "id": "_xKyPi0uAzMR"
      }
    },
    {
      "cell_type": "code",
      "execution_count": null,
      "metadata": {
        "id": "2WI-JknRArJc"
      },
      "outputs": [],
      "source": [
        "import pickle\n",
        "import os\n",
        "import json\n",
        "\n",
        "import nltk\n",
        "from nltk.corpus import stopwords\n",
        "import re\n",
        "\n",
        "import pandas as pd\n",
        "import numpy as np\n",
        "from collections import Counter\n",
        "\n",
        "import warnings\n",
        "from tqdm import tqdm\n",
        "\n",
        "import matplotlib.patches as mpatches\n",
        "import matplotlib.pyplot as plt\n",
        "\n",
        "warnings.filterwarnings('ignore')\n",
        "nltk.download('averaged_perceptron_tagger')\n",
        "nltk.download('stopwords')\n",
        "nltk.download(\"wordnet\")\n",
        "stops=set(stopwords.words('english'))"
      ]
    },
    {
      "cell_type": "code",
      "source": [
        "# 3.9.6.64bit\n",
        "output_directory=r'/content/drive/MyDrive/Research/Product Science/Output'\n",
        "data_directory=r'/content/drive/MyDrive/Research/Product Science/Data'"
      ],
      "metadata": {
        "id": "PUY2l8PlA0hq"
      },
      "execution_count": null,
      "outputs": []
    },
    {
      "cell_type": "code",
      "source": [
        "year_list=[year for year in range(1994,2025)]"
      ],
      "metadata": {
        "id": "ZoCf8ee9A4th"
      },
      "execution_count": null,
      "outputs": []
    },
    {
      "cell_type": "code",
      "source": [
        "class Product():\n",
        "  def __init__(self,id,name,year,firm, Domains,SubDomains,char_names,chars):\n",
        "    self.id=id # int\n",
        "    self.name=name # str\n",
        "    self.year=year # int\n",
        "    self.firm=firm # str\n",
        "    self.Domains=Domains # list\n",
        "    self.SubDomains=SubDomains # Domain_SubDoamin: list\n",
        "    self.chars_name = char_names # char_dictioanry: char\n",
        "    self.chars=chars # char_dictioanry: index\n",
        "\n",
        "    self.product_type=None\n",
        "\n",
        "    self.vector= None\n",
        "    self.vector_dim=None # dimensionality reduction\n",
        "    self.taxon=None\n",
        "\n",
        "    self.functional_modules=None\n",
        "    self.functional_modules_2=None # 임시\n",
        "    self.information_content=None\n",
        "    self.innovativeness=None\n",
        "    self.lineage=None\n",
        "\n",
        "    self.ancestors=None\n",
        "    self.ancestor=None\n",
        "    self.descendant=None\n",
        "    self.descendants=None\n",
        "\n",
        "    self.temp_1=None\n",
        "    self.temp_2=None\n",
        "\n",
        "    self.optimal_n = None\n",
        "    self.cluster_labels = None\n",
        "    self.cluster_centers = None\n",
        "    self.modularity = None"
      ],
      "metadata": {
        "id": "SHdTaFIxA6D-"
      },
      "execution_count": null,
      "outputs": []
    },
    {
      "cell_type": "markdown",
      "source": [
        "# Data Load"
      ],
      "metadata": {
        "id": "FzFPajJjBAJl"
      }
    },
    {
      "cell_type": "code",
      "source": [
        "# Data Load\n",
        "with open(data_directory+'/Total_Data.json','r') as f:\n",
        "  data=json.load(f)"
      ],
      "metadata": {
        "id": "OLb7NwiOBB3M"
      },
      "execution_count": null,
      "outputs": []
    },
    {
      "cell_type": "code",
      "source": [
        "temp_year_list=[]\n",
        "temp_other_pattern_list=[]\n",
        "\n",
        "regex1 = re.compile(r'released \\d\\d\\d\\d')\n",
        "regex2 = re.compile(r'\\d\\d\\d\\d')\n",
        "temp_year_list=[]\n",
        "temp_other_patten_list=[]\n",
        "for name in data.keys():\n",
        "  try:\n",
        "    item=data[name][\"Launch\"][\"Announced\"][0]\n",
        "    if regex1.search(item):\n",
        "      year=int(regex1.search(item).group()[-4:])\n",
        "    elif regex2.search(item):\n",
        "      year=int(regex2.search(item).group())\n",
        "    else:\n",
        "      year=None\n",
        "    data[name][\"year\"]=year\n",
        "    temp_year_list.append(year)\n",
        "  except:\n",
        "    temp_other_pattern_list.append(data[name][\"Launch\"][\"Announced\"])"
      ],
      "metadata": {
        "id": "RjqJyCnRBCH0"
      },
      "execution_count": null,
      "outputs": []
    },
    {
      "cell_type": "code",
      "source": [
        "data['Apple iPhone']"
      ],
      "metadata": {
        "id": "GGHaBcvqBLnk"
      },
      "execution_count": null,
      "outputs": []
    },
    {
      "cell_type": "code",
      "source": [
        "# Assuming `data` is your dataset\n",
        "delete_list = set(['т9', '-', '?', 'no', 'n/a', 'na', 'nо', 'or'])\n",
        "\n",
        "Domain_SubDomain_set = set()\n",
        "Domain_set = set()\n",
        "char_set = set()\n",
        "Name_set = set()\n",
        "Firm_set = set()\n",
        "\n",
        "temp_result_list=[]\n",
        "for name in data.keys():\n",
        "    if 'year' in data[name] and data[name]['year'] and int(data[name]['year']) in year_list:\n",
        "        for Domain, SubDomains in data[name].items():\n",
        "            temp_list = []\n",
        "            if Domain not in [\"Misc\", \"Launch\",\"Demand\"] and isinstance(SubDomains, dict):\n",
        "                for SubDomain, items in SubDomains.items():\n",
        "                    if items:\n",
        "                        for item in items:\n",
        "                            for char in item.split(','):\n",
        "                                char = char.lower().strip()\n",
        "                                if char and char not in delete_list:\n",
        "                                    if char == 'au)':\n",
        "                                        char = 'au'\n",
        "                                    Name_set.add(name)\n",
        "                                    Domain_set.add(Domain)\n",
        "                                    char_set.add(char)\n",
        "                                    Domain_SubDomain_set.add(f\"{Domain}_{SubDomain}\")\n",
        "                                    Firm_set.add(name.split(' ')[0].strip())\n",
        "                                    temp_result_list.append([Domain, f\"{Domain}_{SubDomain}\", char, name,name.split(' ')[0].strip()])\n",
        "\n",
        "Domain_list = list(Domain_set)\n",
        "Domain_SubDomain_list = list(Domain_SubDomain_set)\n",
        "char_list = list(char_set)\n",
        "Name_list = list(Name_set)\n",
        "Firm_list = list(Firm_set)\n",
        "\n",
        "# Domain == Camera has always no in char\n",
        "len(Domain_list), len(Domain_SubDomain_list), len(char_list), len(Name_list), len(Firm_list)"
      ],
      "metadata": {
        "id": "MszMqNfFCsnF"
      },
      "execution_count": null,
      "outputs": []
    },
    {
      "cell_type": "code",
      "source": [
        "with open(data_directory+'/id2Domain.pkl','wb') as f:\n",
        "  id2Domain = dict(zip([id for id in range(len(sorted(Domain_list)))] , sorted(Domain_list)))\n",
        "  pickle.dump(id2Domain,f)\n",
        "\n",
        "with open(data_directory+'/id2SubDomain.pkl','wb') as f:\n",
        "  id2SubDomain=dict(zip([id for id in range(len(sorted(Domain_SubDomain_list)))],sorted(Domain_SubDomain_list)))\n",
        "  pickle.dump(id2SubDomain,f)\n",
        "\n",
        "with open(data_directory+'/id2Product.pkl','wb') as f:\n",
        "  id2Product = dict(zip([id for id in range(len(sorted(Name_list)))] , sorted(Name_list)))\n",
        "  pickle.dump(id2Product,f)\n",
        "\n",
        "with open(data_directory+'/id2Firm.pkl','wb') as f:\n",
        "  id2Firm = dict(zip([id for id in range(len(sorted(Firm_list)))] , sorted(Firm_list)))\n",
        "  pickle.dump(id2Firm,f)"
      ],
      "metadata": {
        "id": "ntFZQEhiEO4z"
      },
      "execution_count": null,
      "outputs": []
    },
    {
      "cell_type": "code",
      "source": [
        "char_dictionary_df=pd.DataFrame(temp_result_list)\n",
        "char_dictionary_df.columns=['Domain','SubDomain','char',\"Product\",'Firm']\n",
        "char_dictionary_df = char_dictionary_df[['Domain','SubDomain','char']]\n",
        "char_dictionary_df.drop_duplicates(inplace=True)\n",
        "char_dictionary_df.reset_index(inplace=True,drop=True)\n",
        "char_dictionary_df.head()"
      ],
      "metadata": {
        "id": "9Abz2-xW7lY6"
      },
      "execution_count": null,
      "outputs": []
    },
    {
      "cell_type": "code",
      "source": [
        "id2char = {}\n",
        "for index, row in char_dictionary_df[['Domain','SubDomain','char']].iterrows():\n",
        "    domain = row['Domain']\n",
        "    subdomain = row['SubDomain']\n",
        "    char = row['char']\n",
        "    id2char[index] = [domain, subdomain, char]"
      ],
      "metadata": {
        "id": "EsrxAhUWeYzC"
      },
      "execution_count": null,
      "outputs": []
    },
    {
      "cell_type": "code",
      "source": [
        "with open(data_directory+'/id2char.pkl','wb') as f:\n",
        "  pickle.dump(id2char,f)"
      ],
      "metadata": {
        "id": "QBdRUQn7eZqQ"
      },
      "execution_count": null,
      "outputs": []
    },
    {
      "cell_type": "code",
      "source": [
        "df=pd.DataFrame(temp_result_list)\n",
        "df.columns=['Domain','SubDomain','char','Product','Firm']\n",
        "df.head()"
      ],
      "metadata": {
        "id": "ZCjYQW-pectR"
      },
      "execution_count": null,
      "outputs": []
    },
    {
      "cell_type": "code",
      "source": [
        "with open(data_directory+'/context_df.pkl','wb') as f:\n",
        "  pickle.dump(df,f)"
      ],
      "metadata": {
        "id": "w2Bus5XHec0v"
      },
      "execution_count": null,
      "outputs": []
    },
    {
      "cell_type": "code",
      "source": [
        "char2id ={(value[0],value[1],value[2]):key for key,value in id2char.items()}"
      ],
      "metadata": {
        "id": "kZ_IAlmweeBX"
      },
      "execution_count": null,
      "outputs": []
    },
    {
      "cell_type": "code",
      "source": [
        "Product2id = {value:key for key,value in id2Product.items()}"
      ],
      "metadata": {
        "id": "UGlPwKXyee0s"
      },
      "execution_count": null,
      "outputs": []
    },
    {
      "cell_type": "code",
      "source": [
        "Product_list = []\n",
        "for i, name in tqdm(enumerate(df[\"Product\"].unique())):\n",
        "    if 'year' in data[name].keys():\n",
        "        temp_year = data[name]['year']\n",
        "        firm=name.split(' ')[0].strip()\n",
        "        temp_df = df[df[\"Product\"]==name]\n",
        "        Domains = list(temp_df[\"Domain\"])\n",
        "        SubDomains = list(temp_df[\"SubDomain\"])\n",
        "        chars = list(temp_df[\"char\"])\n",
        "        temp_ids = []\n",
        "        for row in temp_df.iterrows():\n",
        "            temp_id = char2id[(row[1][\"Domain\"],row[1][\"SubDomain\"],row[1][\"char\"])]\n",
        "            temp_ids.append(temp_id)\n",
        "        product=Product(Product2id[name],name,temp_year,firm,Domains,SubDomains,chars,temp_ids)\n",
        "        Product_list.append(product)\n",
        "    else:\n",
        "        print(name)"
      ],
      "metadata": {
        "id": "GZ6TYkEYefcF"
      },
      "execution_count": null,
      "outputs": []
    },
    {
      "cell_type": "code",
      "source": [
        "with open(data_directory+f'/Products.pkl','wb') as f:\n",
        "    pickle.dump(Product_list, f)"
      ],
      "metadata": {
        "id": "OnRVE43oegLk"
      },
      "execution_count": null,
      "outputs": []
    },
    {
      "cell_type": "code",
      "source": [
        "with open(data_directory+f'/Products.pkl','rb') as f:\n",
        "    Product_list = pickle.load(f)"
      ],
      "metadata": {
        "id": "Ay-2kAX1ehQf"
      },
      "execution_count": null,
      "outputs": []
    },
    {
      "cell_type": "code",
      "source": [
        "temp_products=[product for product in Product_list if product.year]\n",
        "temp_min=min([product.year for product in temp_products])\n",
        "temp_max=max([product.year for product in temp_products])\n",
        "\n",
        "temp_value_list=[]\n",
        "year_list=[year for year in range(temp_min,temp_max+1)]\n",
        "for year in year_list:\n",
        "  temp_value_list.append(len([product for product in temp_products if product.year==year]))"
      ],
      "metadata": {
        "id": "XvANU73Seh8C"
      },
      "execution_count": null,
      "outputs": []
    },
    {
      "cell_type": "code",
      "source": [
        "import matplotlib.pyplot as plt\n",
        "import seaborn as sns\n",
        "\n",
        "# Set the seaborn style\n",
        "sns.set_theme(style=\"whitegrid\", palette=\"colorblind\")\n",
        "\n",
        "# Plotting\n",
        "fig, ax = plt.subplots(figsize=(20, 10))\n",
        "\n",
        "# Creating the barplot\n",
        "bars = ax.bar(year_list, temp_value_list, color=sns.color_palette(\"colorblind\")[0], alpha=0.7)\n",
        "\n",
        "# Customize the ticks and labels\n",
        "ax.tick_params(axis=\"x\", width=1, direction=\"in\", labelsize=20, rotation=90)\n",
        "ax.tick_params(axis=\"y\", width=1, direction=\"in\", labelsize=20)\n",
        "\n",
        "# Adding text labels on bars\n",
        "for i, b in enumerate(bars):\n",
        "    ax.text(b.get_x() + b.get_width() * 0.5, b.get_height() + 1, format(temp_value_list[i], \",d\"),\n",
        "            ha='center', fontsize=15, fontweight=\"bold\")\n",
        "\n",
        "# Adding labels and lines\n",
        "ax.set_xticks(year_list)\n",
        "ax.set_xlabel(\"Year\", fontsize=30)\n",
        "ax.set_ylabel(\"Number of Products\", fontsize=30)\n",
        "ax.axvline(x=1994, color='red', linestyle='dotted', linewidth=2)\n",
        "ax.axvline(x=2023, color='red', linestyle='dotted', linewidth=2)\n",
        "\n",
        "# Add gridlines for better readability\n",
        "ax.yaxis.grid(True, linestyle='--', which='major', color='grey', alpha=0.5)\n",
        "\n",
        "# Set background color to white for a clean look\n",
        "ax.set_facecolor('white')\n",
        "fig.set_facecolor('white')\n",
        "\n",
        "# Adjusting path as needed\n",
        "output_directory = \"./\"\n",
        "plt.savefig(f\"{output_directory}/Product_year_histogram.jpg\", dpi=600, transparent=False, bbox_inches=\"tight\")\n"
      ],
      "metadata": {
        "id": "K41J4mIReivc"
      },
      "execution_count": null,
      "outputs": []
    },
    {
      "cell_type": "markdown",
      "source": [
        "# Using Context around Product, consructing network"
      ],
      "metadata": {
        "id": "hP3dTRT0elVO"
      }
    },
    {
      "cell_type": "code",
      "source": [
        "# Load pickles\n",
        "\n",
        "with open(data_directory+f'/id2Domain.pkl','rb') as f:\n",
        "    id2Domain = pickle.load(f)\n",
        "with open(data_directory+f'/id2Product.pkl','rb') as f:\n",
        "    id2Product = pickle.load(f)\n",
        "with open(data_directory+f'/id2SubDomain.pkl','rb') as f:\n",
        "    id2SubDomain = pickle.load(f)\n",
        "with open(data_directory+f'/id2char.pkl','rb') as f:\n",
        "    id2char = pickle.load(f)\n",
        "with open(data_directory+f'/Products.pkl','rb') as f:\n",
        "    Product_list = pickle.load(f)\n",
        "with open(data_directory+f'/id2Firm.pkl','rb') as f:\n",
        "    id2Firm = pickle.load(f)\n",
        "with open(data_directory+f'/context_df.pkl','rb') as f:\n",
        "    context_df = pickle.load(f)"
      ],
      "metadata": {
        "id": "yHiTRH6Dej2C"
      },
      "execution_count": null,
      "outputs": []
    },
    {
      "cell_type": "code",
      "source": [
        "len(id2Domain), len(id2SubDomain), len(id2Product), len(id2char), len(Product_list), len(id2Firm), len(context_df)"
      ],
      "metadata": {
        "id": "8fA5qZqAemGL"
      },
      "execution_count": null,
      "outputs": []
    },
    {
      "cell_type": "code",
      "source": [
        "context_df.head()"
      ],
      "metadata": {
        "id": "dy_biF34eoGh"
      },
      "execution_count": null,
      "outputs": []
    },
    {
      "cell_type": "code",
      "source": [
        "Firm2id = {value:key for key, value in id2Firm.items()}\n",
        "Domain2id = {value:key for key, value in id2Domain.items()}\n",
        "SubDomain2id = {value:key for key, value in id2SubDomain.items()}\n",
        "Product2id = {value:key for key, value in id2Product.items()}"
      ],
      "metadata": {
        "id": "VJMEEFreeoMc"
      },
      "execution_count": null,
      "outputs": []
    },
    {
      "cell_type": "code",
      "source": [
        "char2id = {(value[0],value[1],value[2]):key for key, value in id2char.items()}"
      ],
      "metadata": {
        "id": "WcCy2-8Peo3A"
      },
      "execution_count": null,
      "outputs": []
    },
    {
      "cell_type": "code",
      "source": [
        "# Using this one (241213)\n",
        "\n",
        "import networkx as nx\n",
        "\n",
        "Hetero_G = nx.DiGraph()\n",
        "\n",
        "for i in id2SubDomain.keys():\n",
        "    Hetero_G.add_node('subdomain_'+str(i),type='subdomain')\n",
        "for i in id2char.keys():\n",
        "    Hetero_G.add_node('char_'+str(i),type='char')\n",
        "for i in id2Product.keys():\n",
        "    Hetero_G.add_node('product_'+str(i),type='product')\n",
        "for i in id2Firm.keys():\n",
        "    Hetero_G.add_node('firm_'+str(i),type='firm')\n",
        "\n",
        "for i, row in context_df.iterrows():\n",
        "    temp_product = 'product_%s'%str(Product2id[row['Product']] )\n",
        "    temp_char = 'char_%s'%str(char2id[(row['Domain'],row['SubDomain'],row['char'])])\n",
        "    temp_subdomain = 'subdomain_%s'%str(SubDomain2id[row['SubDomain']] )\n",
        "    temp_firm = 'firm_%s'%str(Firm2id[row['Firm']] )\n",
        "\n",
        "    Hetero_G.add_edge(temp_firm,temp_product,type='produce')\n",
        "    Hetero_G.add_edge(temp_product,temp_subdomain,type='function')\n",
        "    Hetero_G.add_edge(temp_subdomain,temp_char,type='tech')\n",
        "    Hetero_G.add_edge(temp_char,temp_product,type='has')\n"
      ],
      "metadata": {
        "id": "rXPvIjPqeptf"
      },
      "execution_count": null,
      "outputs": []
    },
    {
      "cell_type": "code",
      "source": [
        "print(\"Graph Summary\")\n",
        "print(f\"Number of nodes: {Hetero_G.number_of_nodes()}\")\n",
        "print(f\"Number of edges: {Hetero_G.number_of_edges()}\")\n",
        "print(\"\\nNode types:\")\n",
        "node_types = {}\n",
        "for _, data in Hetero_G.nodes(data=True):\n",
        "    node_type = data.get('type', 'unknown')\n",
        "    node_types[node_type] = node_types.get(node_type, 0) + 1\n",
        "for node_type, count in node_types.items():\n",
        "    print(f\"{node_type}: {count}\")\n",
        "\n",
        "print(\"\\nEdge types:\")\n",
        "edge_types = {}\n",
        "for _, _, data in Hetero_G.edges(data=True):\n",
        "    edge_type = data.get('type', 'unknown')\n",
        "    edge_types[edge_type] = edge_types.get(edge_type, 0) + 1\n",
        "for edge_type, count in edge_types.items():\n",
        "    print(f\"{edge_type}: {count}\")\n"
      ],
      "metadata": {
        "id": "WYHyTulPerP7"
      },
      "execution_count": null,
      "outputs": []
    },
    {
      "cell_type": "markdown",
      "source": [
        "# Random walks in the network"
      ],
      "metadata": {
        "id": "OIk6eO2JetHx"
      }
    },
    {
      "cell_type": "code",
      "source": [
        "import random\n",
        "\n",
        "def random_walk(G, start_node, walk_length):\n",
        "    walk = [start_node]\n",
        "    current_node = start_node\n",
        "\n",
        "    for _ in range(walk_length - 1):\n",
        "        neighbors = list(G.neighbors(current_node))\n",
        "        if len(neighbors) == 0:\n",
        "            break\n",
        "        current_node = random.choice(neighbors)\n",
        "        walk.append(current_node)\n",
        "    return walk"
      ],
      "metadata": {
        "id": "jEzA8ZpCesU3"
      },
      "execution_count": null,
      "outputs": []
    },
    {
      "cell_type": "code",
      "source": [
        "num_walks = 40\n",
        "\n",
        "walks = []\n",
        "for node in tqdm(Hetero_G.nodes()):\n",
        "    for n in range(0,num_walks):\n",
        "        walk = random_walk(Hetero_G, node, 20)\n",
        "        walks.append(walk)"
      ],
      "metadata": {
        "id": "dJZWgy9wev1H"
      },
      "execution_count": null,
      "outputs": []
    },
    {
      "cell_type": "code",
      "source": [
        "# 40 num walks, 20 walk length\n",
        "\n",
        "with open(data_directory+f'/walks_40_20.pkl','wb') as f:\n",
        "    pickle.dump(walks, f)"
      ],
      "metadata": {
        "id": "lEAXZDZLewpI"
      },
      "execution_count": null,
      "outputs": []
    },
    {
      "cell_type": "markdown",
      "source": [
        "# Embedding"
      ],
      "metadata": {
        "id": "WUEwd-Hce0Kc"
      }
    },
    {
      "cell_type": "code",
      "source": [
        "with open(data_directory+f'/walks_40_20.pkl','rb') as f:\n",
        "  walks = pickle.load(f)"
      ],
      "metadata": {
        "id": "A68CxEaKeyZr"
      },
      "execution_count": null,
      "outputs": []
    },
    {
      "cell_type": "code",
      "source": [
        "from gensim.models import Word2Vec\n",
        "import logging\n",
        "logging.basicConfig(format='%(asctime)s : %(levelname)s : %(message)s', level=logging.INFO)\n",
        "\n",
        "# walks 40 20\n",
        "model = Word2Vec(walks, vector_size=64, window=5, min_count=0, workers=2, sg=1)"
      ],
      "metadata": {
        "id": "mkzY10pve1px"
      },
      "execution_count": null,
      "outputs": []
    },
    {
      "cell_type": "code",
      "source": [
        "import os\n",
        "\n",
        "model_directory = os.path.join(data_directory, \"Model1\")\n",
        "os.makedirs(model_directory, exist_ok=True)\n",
        "model.save(model_directory+\"/word2vec_model_250120.bin\")"
      ],
      "metadata": {
        "id": "Yo7zX3Iwe5mL"
      },
      "execution_count": null,
      "outputs": []
    },
    {
      "cell_type": "markdown",
      "source": [
        "# Load Embedding Model"
      ],
      "metadata": {
        "id": "ndSYHWOtmyxe"
      }
    },
    {
      "cell_type": "code",
      "source": [
        "from gensim.models import Word2Vec\n",
        "\n",
        "model_directory = os.path.join(data_directory, \"Model1\")\n",
        "model = Word2Vec.load(model_directory+\"/word2vec_model_250120.bin\")"
      ],
      "metadata": {
        "id": "cmuGYv6ElN6C"
      },
      "execution_count": null,
      "outputs": []
    },
    {
      "cell_type": "code",
      "source": [
        "similar_words = model.wv.most_similar(\"char_5888\", topn=5)\n",
        "similar_words"
      ],
      "metadata": {
        "id": "ZQGHQniEm2cw"
      },
      "execution_count": null,
      "outputs": []
    },
    {
      "cell_type": "markdown",
      "source": [
        "# Embedding Vector"
      ],
      "metadata": {
        "id": "gWkUMe-zm7sp"
      }
    },
    {
      "cell_type": "code",
      "source": [
        "X = model.wv.vectors\n",
        "X.shape"
      ],
      "metadata": {
        "id": "-VefQn-mm6T4"
      },
      "execution_count": null,
      "outputs": []
    },
    {
      "cell_type": "code",
      "source": [
        "model.wv.key_to_index"
      ],
      "metadata": {
        "id": "_F_5GiKlm9ON"
      },
      "execution_count": null,
      "outputs": []
    },
    {
      "cell_type": "code",
      "source": [
        "Productid2vector = {}\n",
        "Charid2vector = {}\n",
        "SubDomainid2vector = {}\n",
        "Firm2id2vector = {}\n",
        "\n",
        "for key in tqdm(model.wv.key_to_index):\n",
        "    index = model.wv.key_to_index[key]\n",
        "    if 'char' in key:\n",
        "        Charid2vector[int(key.split('_')[-1])]=X[index]\n",
        "    elif 'product' in key:\n",
        "        Productid2vector[int(key.split('_')[-1])]=X[index]\n",
        "    elif 'subdomain' in key:\n",
        "        SubDomainid2vector[int(key.split('_')[-1])]=X[index]\n",
        "    elif 'firm' in key:\n",
        "        Firm2id2vector[int(key.split('_')[-1])]=X[index]\n",
        "    else:\n",
        "        print(key)"
      ],
      "metadata": {
        "id": "FGG58e3Dm-XW"
      },
      "execution_count": null,
      "outputs": []
    },
    {
      "cell_type": "code",
      "source": [
        "with open(model_directory+f'/Charid2vector.pkl','wb') as f:\n",
        "    pickle.dump(Charid2vector,f)\n",
        "with open(model_directory+f'/Productid2vector.pkl','wb') as f:\n",
        "    pickle.dump(Productid2vector,f)\n",
        "with open(model_directory+f'/SubDomainid2vector.pkl','wb') as f:\n",
        "    pickle.dump(SubDomainid2vector,f)\n",
        "with open(model_directory+f'/Firm2id2vector.pkl','wb') as f:\n",
        "    pickle.dump(Firm2id2vector,f)"
      ],
      "metadata": {
        "id": "BpJGk4AWm_Wo"
      },
      "execution_count": null,
      "outputs": []
    },
    {
      "cell_type": "markdown",
      "source": [
        "## Visualization"
      ],
      "metadata": {
        "id": "SCrScLWjnBJZ"
      }
    },
    {
      "cell_type": "code",
      "source": [
        "def euclidean_distance(A,B):\n",
        "  return np.sqrt(np.sum((A-B)**2))\n",
        "\n",
        "import matplotlib.colors as mcolors\n",
        "colors=list(mcolors.BASE_COLORS)\n",
        "colors+=list(mcolors.CSS4_COLORS)[10:]"
      ],
      "metadata": {
        "id": "TRx90i8wnAWm"
      },
      "execution_count": null,
      "outputs": []
    },
    {
      "cell_type": "code",
      "source": [
        "with open(model_directory+f'/Charid2vector.pkl','rb') as f:\n",
        "    Charid2vector = pickle.load(f)\n",
        "with open(model_directory+f'/Productid2vector.pkl','rb') as f:\n",
        "    Productid2vector = pickle.load(f)\n",
        "with open(model_directory+f'/SubDomainid2vector.pkl','rb') as f:\n",
        "    SubDomainid2vector = pickle.load(f)\n",
        "with open(model_directory+f'/Firm2id2vector.pkl','rb') as f:\n",
        "    Firmid2vector = pickle.load(f)\n",
        "\n",
        "with open(data_directory+f'/id2Domain.pkl','rb') as f:\n",
        "    id2Domain = pickle.load(f)\n",
        "with open(data_directory+f'/id2Product.pkl','rb') as f:\n",
        "    id2Product = pickle.load(f)\n",
        "with open(data_directory+f'/id2SubDomain.pkl','rb') as f:\n",
        "    id2SubDomain = pickle.load(f)\n",
        "with open(data_directory+f'/id2char.pkl','rb') as f:\n",
        "    id2char = pickle.load(f)\n",
        "with open(data_directory+f'/Products.pkl','rb') as f:\n",
        "    Product_list = pickle.load(f)\n",
        "with open(data_directory+f'/id2Firm.pkl','rb') as f:\n",
        "    id2Firm = pickle.load(f)\n",
        "with open(data_directory+f'/context_df.pkl','rb') as f:\n",
        "    context_df = pickle.load(f)"
      ],
      "metadata": {
        "id": "uK8bSYbjnCHe"
      },
      "execution_count": null,
      "outputs": []
    },
    {
      "cell_type": "code",
      "source": [
        "Firm2id = {value:key for key, value in id2Firm.items()}\n",
        "Domain2id = {value:key for key, value in id2Domain.items()}\n",
        "SubDomain2id = {value:key for key, value in id2SubDomain.items()}\n",
        "Product2id = {value:key for key, value in id2Product.items()}\n",
        "char2id = {(value[0],value[1],value[2]):key for key, value in id2char.items()}"
      ],
      "metadata": {
        "id": "KK6p81wmnDAv"
      },
      "execution_count": null,
      "outputs": []
    },
    {
      "cell_type": "code",
      "source": [
        "import numpy as np\n",
        "import matplotlib.pyplot as plt\n",
        "from sklearn.manifold import TSNE\n",
        "\n",
        "np.random.seed(42)"
      ],
      "metadata": {
        "id": "VesOjr4lnD7d"
      },
      "execution_count": null,
      "outputs": []
    },
    {
      "cell_type": "code",
      "source": [
        "temp_list = list(Firmid2vector.keys())\n",
        "temp_list = sorted(temp_list)\n",
        "\n",
        "first_key = 0\n",
        "Firm_X = np.array([Firmid2vector[first_key]])\n",
        "for i in tqdm(temp_list[1:]):\n",
        "    Firm_X = np.concatenate((Firm_X, [Firmid2vector[i]]), axis=0)"
      ],
      "metadata": {
        "id": "3vne6snInE7a"
      },
      "execution_count": null,
      "outputs": []
    },
    {
      "cell_type": "code",
      "source": [
        "temp_list = list(SubDomainid2vector.keys())\n",
        "temp_list = sorted(temp_list)\n",
        "\n",
        "first_key = 0\n",
        "SubDomain_X = np.array([SubDomainid2vector[first_key]])\n",
        "for i in tqdm(temp_list[1:]):\n",
        "    SubDomain_X = np.concatenate((SubDomain_X, [SubDomainid2vector[i]]), axis=0)"
      ],
      "metadata": {
        "id": "3qlOGe_pnGRm"
      },
      "execution_count": null,
      "outputs": []
    },
    {
      "cell_type": "code",
      "source": [
        "temp_list = list(Productid2vector.keys())\n",
        "temp_list = sorted(temp_list)\n",
        "\n",
        "first_key = 0\n",
        "Product_X = np.array([Productid2vector[first_key]])\n",
        "for i in tqdm(temp_list[1:]):\n",
        "    Product_X = np.concatenate((Product_X, [Productid2vector[i]]), axis=0)"
      ],
      "metadata": {
        "id": "doZA-LQTnJaS"
      },
      "execution_count": null,
      "outputs": []
    },
    {
      "cell_type": "code",
      "source": [
        "temp_list = list(Charid2vector.keys())\n",
        "temp_list = sorted(temp_list)\n",
        "\n",
        "first_key = 0\n",
        "Char_X = np.array([Charid2vector[first_key]])\n",
        "for i in tqdm(temp_list[1:]):\n",
        "    Char_X = np.concatenate((Char_X, [Charid2vector[i]]), axis=0)"
      ],
      "metadata": {
        "id": "B56EqRgwnKIX"
      },
      "execution_count": null,
      "outputs": []
    },
    {
      "cell_type": "code",
      "source": [
        "X.shape"
      ],
      "metadata": {
        "id": "NXAjSValnVjD"
      },
      "execution_count": null,
      "outputs": []
    },
    {
      "cell_type": "code",
      "source": [
        "Firm_X.shape, SubDomain_X.shape, Product_X.shape, Char_X.shape"
      ],
      "metadata": {
        "id": "6sCrAc_0nYnH"
      },
      "execution_count": null,
      "outputs": []
    },
    {
      "cell_type": "code",
      "source": [
        "!pip install umap-learn"
      ],
      "metadata": {
        "id": "ZebVU-4wna9W"
      },
      "execution_count": null,
      "outputs": []
    },
    {
      "cell_type": "code",
      "source": [
        "import umap\n",
        "import numpy as np\n",
        "import matplotlib.pyplot as plt\n",
        "\n",
        "reducer = umap.UMAP(n_components=3, random_state=42)\n",
        "X_umap_3d = reducer.fit_transform(X)\n",
        "with open(model_directory + '/X_umap_3d.pkl', 'wb') as f:\n",
        "  pickle.dump(X_umap_3d, f)\n",
        "\n",
        "reducer = umap.UMAP(\n",
        "    n_components=2,\n",
        "    n_neighbors=50,        # Larger neighborhood for global structure\n",
        "    min_dist=0.2,         # Tighter clustering\n",
        "    #metric='cosine',       # Use cosine distance\n",
        "    random_state=42,\n",
        "    spread=3,            # Increase spread for better separation\n",
        "    learning_rate=0.5      # Slower optimization for smoother results\n",
        ")\n",
        "\n",
        "X_umap_2d = reducer.fit_transform(X)\n",
        "with open(model_directory + '/X_umap_2d.pkl', 'wb') as f:\n",
        "  pickle.dump(X_umap_2d, f)"
      ],
      "metadata": {
        "id": "L_N4As_AnLOs"
      },
      "execution_count": null,
      "outputs": []
    },
    {
      "cell_type": "code",
      "source": [
        "firm_index = [model.wv.key_to_index[item] for item in model.wv.key_to_index.keys() if 'firm' in item]\n",
        "char_index = [model.wv.key_to_index[item] for item in model.wv.key_to_index.keys() if 'char' in item]\n",
        "subdomain_index = [model.wv.key_to_index[item] for item in model.wv.key_to_index.keys() if 'subdomain' in item]\n",
        "product_index = [model.wv.key_to_index[item] for item in model.wv.key_to_index.keys() if 'product' in item]\n",
        "\n",
        "color_list = ['red', 'blue', 'green', 'purple']"
      ],
      "metadata": {
        "id": "CfQm84SenaTt"
      },
      "execution_count": null,
      "outputs": []
    },
    {
      "cell_type": "code",
      "source": [
        "import matplotlib.colors as mcolors\n",
        "colors=list(mcolors.BASE_COLORS)\n",
        "colors+=list(mcolors.CSS4_COLORS)[10:]"
      ],
      "metadata": {
        "id": "xHDBi84mnmCT"
      },
      "execution_count": null,
      "outputs": []
    },
    {
      "cell_type": "code",
      "source": [
        "colors.remove('w')\n",
        "Domain_color_dict = {value:colors[key] for key,value in id2Domain.items()}"
      ],
      "metadata": {
        "id": "TT9_CD9Qnm_G"
      },
      "execution_count": null,
      "outputs": []
    },
    {
      "cell_type": "code",
      "source": [
        "charid2vectorid = {int(item.split('_')[1]): model.wv.key_to_index[item] for item in model.wv.key_to_index.keys() if 'char' in item}"
      ],
      "metadata": {
        "id": "W_1mRibRnnqB"
      },
      "execution_count": null,
      "outputs": []
    },
    {
      "cell_type": "code",
      "source": [
        "color_list = []\n",
        "\n",
        "for row in context_df.iterrows():\n",
        "    color = Domain_color_dict[row[1][\"Domain\"]]\n",
        "    color_list.append(color)\n",
        "\n",
        "context_df[\"color\"] = color_list\n",
        "context_df['vector_id'] = context_df.index.map(charid2vectorid)"
      ],
      "metadata": {
        "id": "51g_j1k0nqRq"
      },
      "execution_count": null,
      "outputs": []
    },
    {
      "cell_type": "code",
      "source": [
        "with open(model_directory+f'/context_df_w vector_id.pkl','wb') as f:\n",
        "    pickle.dump(context_df,f)"
      ],
      "metadata": {
        "id": "Ed4lOY_Dnq5D"
      },
      "execution_count": null,
      "outputs": []
    },
    {
      "cell_type": "code",
      "source": [
        "temp_context_df = context_df.copy()\n",
        "temp_context_df.dropna(inplace=True)\n",
        "temp_context_df.reset_index(inplace=True,drop=True)"
      ],
      "metadata": {
        "id": "peYm9i77nrq-"
      },
      "execution_count": null,
      "outputs": []
    },
    {
      "cell_type": "code",
      "source": [
        "from collections import Counter\n",
        "\n",
        "temp_firms = [product.firm for product in Product_list]\n",
        "major_firms = [x[0] for x in Counter(temp_firms).most_common(9)] + ['Apple']\n",
        "\n",
        "Firm_color_dict = {firm:colors[key] for key,firm in enumerate(major_firms)}\n",
        "Firm_color_dict"
      ],
      "metadata": {
        "id": "-Zt1kD1Ons9m"
      },
      "execution_count": null,
      "outputs": []
    },
    {
      "cell_type": "code",
      "source": [
        "with open(model_directory + '/X_umap_2d.pkl', 'rb') as f:\n",
        "  X_umap_2d = pickle.load(f)\n",
        "with open(model_directory + '/X_umap_3d.pkl', 'rb') as f:\n",
        "  X_umap_3d = pickle.load(f)"
      ],
      "metadata": {
        "id": "2VTZhu5DKU_1"
      },
      "execution_count": null,
      "outputs": []
    },
    {
      "cell_type": "code",
      "source": [
        "X_firm = X_umap_3d[firm_index,:]\n",
        "X_char = X_umap_3d[char_index,:]\n",
        "X_subdomain = X_umap_3d[subdomain_index,:]\n",
        "X_product = X_umap_3d[product_index,:]"
      ],
      "metadata": {
        "id": "_OfN-6trnurn"
      },
      "execution_count": null,
      "outputs": []
    },
    {
      "cell_type": "code",
      "source": [
        "import matplotlib.pyplot as plt\n",
        "import seaborn as sns\n",
        "\n",
        "# Set the seaborn style\n",
        "sns.set_theme(style=\"whitegrid\", palette=\"colorblind\")\n",
        "\n",
        "# Create a 3D plot\n",
        "fig = plt.figure(figsize=(15, 15))\n",
        "ax = fig.add_subplot(projection='3d')\n",
        "\n",
        "#ax.scatter(X_umap_3d[:, 0], X_umap_3d[:, 1], X_umap_3d[:, 2],\n",
        "#               color='grey', alpha=0.01, s=50)  # Adjust transparency and size\n",
        "\n",
        "\n",
        "#index_list = [firm_index, char_index, subdomain_index, product_index]\n",
        "index_list = [firm_index, subdomain_index, product_index]\n",
        "\n",
        "for i, index in enumerate(index_list):\n",
        "    if i == 0:\n",
        "        color = 'red'\n",
        "    elif i == 1:\n",
        "        color = 'blue'\n",
        "    elif i == 2:\n",
        "        color = 'green'\n",
        "    else:\n",
        "        color = 'purple'\n",
        "    ax.scatter(X_umap_3d[index, 0], X_umap_3d[index, 1], X_umap_3d[index, 2],\n",
        "               color=color, alpha=0.8, s=1)  # Adjust transparency and size\n",
        "\n",
        "# Remove 3D axis panes and gridlines\n",
        "ax.grid(False)\n",
        "ax.xaxis.pane.fill = False\n",
        "ax.yaxis.pane.fill = False\n",
        "ax.zaxis.pane.fill = False\n",
        "ax.xaxis.pane.set_edgecolor('white')\n",
        "ax.yaxis.pane.set_edgecolor('white')\n",
        "ax.zaxis.pane.set_edgecolor('white')\n",
        "\n",
        "# Remove ticks and labels\n",
        "ax.set_xticks([])\n",
        "ax.set_yticks([])\n",
        "ax.set_zticks([])\n",
        "ax.set_xlabel(\"\")\n",
        "ax.set_ylabel(\"\")\n",
        "ax.set_zlabel(\"\")\n",
        "\n",
        "# Customize the view\n",
        "ax.set_xticks([])\n",
        "ax.set_yticks([])\n",
        "\n",
        "# Set viewing angle\n",
        "ax.view_init(elev=60, azim=10)\n",
        "\n",
        "# Add legend\n",
        "#ax.legend(fontsize=30, bbox_to_anchor=(1.05, 1), loc='upper left')\n",
        "#ax.legend(fontsize=50, loc='upper left')\n",
        "\n",
        "# Final layout and save\n",
        "plt.tight_layout()\n",
        "plt.savefig(model_directory + '/Umap_3D_Domain.jpg', bbox_inches=\"tight\",dpi = 600)\n",
        "plt.savefig(model_directory + '/Umap_3D_Domain.pdf', bbox_inches=\"tight\",dpi = 600)\n"
      ],
      "metadata": {
        "id": "DnB9sCShnwp6"
      },
      "execution_count": null,
      "outputs": []
    },
    {
      "cell_type": "code",
      "source": [
        "len(firm_index), len(char_index), len(subdomain_index), len(product_index)"
      ],
      "metadata": {
        "id": "7Pma3c5_paNA"
      },
      "execution_count": null,
      "outputs": []
    },
    {
      "cell_type": "code",
      "source": [
        "import matplotlib.pyplot as plt\n",
        "import seaborn as sns\n",
        "from mpl_toolkits.mplot3d import Axes3D\n",
        "\n",
        "# Set the seaborn style\n",
        "sns.set_theme(style=\"whitegrid\", palette=\"colorblind\")\n",
        "\n",
        "# Create a 3D plot\n",
        "fig = plt.figure(figsize=(15, 15))\n",
        "ax = fig.add_subplot(111, projection='3d')\n",
        "\n",
        "# Define the z-layers for each category\n",
        "z_layers = {\n",
        "    'char': 3,\n",
        "    'product': 2,\n",
        "    'subdomain': 1,\n",
        "    'firm': 0\n",
        "}\n",
        "\n",
        "# Define categories and their respective indices\n",
        "categories = {\n",
        "    'char': char_index,\n",
        "    'product': product_index,\n",
        "    'subdomain': subdomain_index,\n",
        "    'firm': firm_index\n",
        "}\n",
        "\n",
        "# Define colors for each layer\n",
        "colors = {\n",
        "    'char': 'purple',\n",
        "    'product': 'green',\n",
        "    'subdomain': 'blue',\n",
        "    'firm': 'red'\n",
        "}\n",
        "\n",
        "# Plot scatter points for each layer\n",
        "for category, z in z_layers.items():\n",
        "    index = categories[category]\n",
        "    ax.scatter(\n",
        "        X_umap_2d[index, 0],  # x-coordinates\n",
        "        X_umap_2d[index, 1],  # y-coordinates\n",
        "        z,                    # z-coordinates (constant for the layer)\n",
        "        color=colors[category],\n",
        "        alpha=0.8,            # Adjust transparency\n",
        "        s=10,                 # Adjust size\n",
        "        label=category.capitalize()\n",
        "    )\n",
        "\n",
        "# Customize the 3D view\n",
        "ax.set_xticks([])\n",
        "ax.set_yticks([])\n",
        "ax.set_zticks([])\n",
        "\n",
        "ax.set_xlabel(\"\")\n",
        "ax.set_ylabel(\"\")\n",
        "ax.set_zlabel(\"\")\n",
        "\n",
        "ax.grid(False)\n",
        "ax.view_init(elev=10, azim=120)  # Customize the elevation and azimuth angles\n",
        "\n",
        "# Add a legend\n",
        "ax.legend(fontsize=12, loc='upper left')\n",
        "\n",
        "# Final layout and save\n",
        "plt.tight_layout()\n",
        "plt.savefig(model_directory + '/Umap_3d_Domain.jpg', bbox_inches=\"tight\", dpi=600)\n",
        "plt.savefig(model_directory + '/Umap_3d_Domain.pdf', bbox_inches=\"tight\", dpi=600)\n",
        "plt.show()\n"
      ],
      "metadata": {
        "id": "9tRGLW2Tnx7E"
      },
      "execution_count": null,
      "outputs": []
    },
    {
      "cell_type": "code",
      "source": [
        "import numpy as np\n",
        "import matplotlib.pyplot as plt\n",
        "import seaborn as sns\n",
        "from mpl_toolkits.mplot3d import Axes3D\n",
        "\n",
        "# Set the seaborn style\n",
        "sns.set_theme(style=\"whitegrid\", palette=\"colorblind\")\n",
        "\n",
        "# Create a 3D plot\n",
        "fig = plt.figure(figsize=(15, 15))\n",
        "ax = fig.add_subplot(111, projection='3d')\n",
        "\n",
        "# Define the z-layers for each category\n",
        "z_layers = {\n",
        "    'char': 3,\n",
        "    'product': 2,\n",
        "    'subdomain': 1,\n",
        "    'firm': 0\n",
        "}\n",
        "\n",
        "# Define categories and their respective indices\n",
        "categories = {\n",
        "    'char': char_index,\n",
        "    'product': product_index,\n",
        "    'subdomain': subdomain_index,\n",
        "    'firm': firm_index\n",
        "}\n",
        "\n",
        "# Define colors for each layer\n",
        "colors = {\n",
        "    'char': 'grey',\n",
        "    'product': 'green',\n",
        "    'subdomain': 'blue',\n",
        "    'firm': 'red'\n",
        "}\n",
        "\n",
        "# Add grid planes for each layer\n",
        "for z in z_layers.values():\n",
        "    x_min, x_max = np.min(X_umap_2d[:, 0]), np.max(X_umap_2d[:, 0])\n",
        "    y_min, y_max = np.min(X_umap_2d[:, 1]), np.max(X_umap_2d[:, 1])\n",
        "    x_grid, y_grid = np.meshgrid(np.linspace(x_min, x_max, 50), np.linspace(y_min, y_max, 50))\n",
        "    z_grid = np.full_like(x_grid, z)\n",
        "    ax.plot_surface(\n",
        "        x_grid, y_grid, z_grid,\n",
        "        color='grey', alpha=0.1, rstride=100, cstride=100  # Transparent grid\n",
        "    )\n",
        "\n",
        "# Plot scatter points for each layer\n",
        "for category, z in z_layers.items():\n",
        "    index = categories[category]\n",
        "    ax.scatter(\n",
        "        X_umap_2d[index, 0],  # x-coordinates\n",
        "        X_umap_2d[index, 1],  # y-coordinates\n",
        "        z,                    # z-coordinates (constant for the layer)\n",
        "        color=colors[category],\n",
        "        alpha=0.8,            # Adjust transparency\n",
        "        s=10,                 # Adjust size\n",
        "        label=category.capitalize()\n",
        "    )\n",
        "\n",
        "# Customize the 3D view\n",
        "ax.set_xticks([])\n",
        "ax.set_yticks([])\n",
        "ax.set_zticks([])\n",
        "\n",
        "ax.set_xlabel(\"\")\n",
        "ax.set_ylabel(\"\")\n",
        "ax.set_zlabel(\"\")\n",
        "\n",
        "ax.grid(False)\n",
        "ax.view_init(elev=10, azim=120)  # Customize the elevation and azimuth angles\n",
        "\n",
        "# Add a legend\n",
        "ax.legend(fontsize=12, loc='upper left')\n",
        "\n",
        "# Final layout and save\n",
        "plt.tight_layout()\n",
        "plt.savefig(model_directory + '/Umap_3d_Domain_with_grids.jpg', bbox_inches=\"tight\", dpi=600)\n",
        "plt.savefig(model_directory + '/Umap_3d_Domain_with_grids.pdf', bbox_inches=\"tight\", dpi=600)\n",
        "plt.show()\n"
      ],
      "metadata": {
        "id": "sZBstNgvn2Yi"
      },
      "execution_count": null,
      "outputs": []
    },
    {
      "cell_type": "code",
      "source": [
        "import numpy as np\n",
        "import matplotlib.pyplot as plt\n",
        "import seaborn as sns\n",
        "from mpl_toolkits.mplot3d import Axes3D\n",
        "\n",
        "# Set the seaborn style\n",
        "sns.set_theme(style=\"whitegrid\", palette=\"colorblind\")\n",
        "\n",
        "# Create a 3D plot\n",
        "fig = plt.figure(figsize=(15, 15))\n",
        "ax = fig.add_subplot(111, projection='3d')\n",
        "\n",
        "# Define the z-layers for each category\n",
        "z_layers = {\n",
        "    'char': 3,\n",
        "    'product': 2,\n",
        "    'subdomain': 1,\n",
        "    'firm': 0\n",
        "}\n",
        "\n",
        "# Define categories and their respective indices\n",
        "categories = {\n",
        "    'char': char_index,\n",
        "    'product': product_index,\n",
        "    'subdomain': subdomain_index,\n",
        "    'firm': firm_index\n",
        "}\n",
        "\n",
        "# Define colors for each layer\n",
        "colors = {\n",
        "    'char': 'purple',\n",
        "    'product': 'green',\n",
        "    'subdomain': 'blue',\n",
        "    'firm': 'red'\n",
        "}\n",
        "\n",
        "# Plot scatter points and contour plot for each layer\n",
        "for category, z in z_layers.items():\n",
        "    index = categories[category]\n",
        "    x_data = X_umap_2d[index, 0]\n",
        "    y_data = X_umap_2d[index, 1]\n",
        "\n",
        "    # Scatter plot\n",
        "    ax.scatter(\n",
        "        x_data, y_data, np.full_like(x_data, z),  # z-coordinates are constant\n",
        "        color=colors[category],\n",
        "        alpha=0.8,\n",
        "        s=10,\n",
        "        label=f\"{category.capitalize()} Scatter\"\n",
        "    )\n",
        "\n",
        "    # Generate contour plot for the layer\n",
        "    x_grid, y_grid = np.meshgrid(\n",
        "        np.linspace(np.min(x_data), np.max(x_data), 100),\n",
        "        np.linspace(np.min(y_data), np.max(y_data), 100)\n",
        "    )\n",
        "    # Kernel Density Estimate for contours\n",
        "    from scipy.stats import gaussian_kde\n",
        "    kde = gaussian_kde(np.vstack([x_data, y_data]))\n",
        "    z_density = kde(np.vstack([x_grid.ravel(), y_grid.ravel()])).reshape(x_grid.shape)\n",
        "\n",
        "    # Add the contour plot to the 3D scatter\n",
        "    levels = np.linspace(z_density.min(), z_density.max(), 10)  # Generate 10 evenly spaced levels\n",
        "    ax.contourf(\n",
        "        x_grid, y_grid, z_density,  # Use x, y grid and density values\n",
        "        zdir='z',  # Project onto the z-axis\n",
        "        offset=z,  # Offset the contour on the z-axis\n",
        "        cmap='binary', alpha=0.5,  # Colormap and transparency\n",
        "        levels=levels  # Ensure levels are increasing\n",
        "    )\n",
        "\n",
        "# Customize the 3D view\n",
        "ax.set_xticks([])\n",
        "ax.set_yticks([])\n",
        "ax.set_zticks([])\n",
        "\n",
        "ax.set_xlabel(\"\")\n",
        "ax.set_ylabel(\"\")\n",
        "ax.set_zlabel(\"\")\n",
        "\n",
        "ax.grid(False)\n",
        "ax.view_init(elev=20, azim=120)  # Customize the elevation and azimuth angles\n",
        "\n",
        "# Add a legend\n",
        "#ax.legend(fontsize=12, loc='upper left')\n",
        "\n",
        "# Final layout and save\n",
        "plt.tight_layout()\n",
        "plt.savefig(model_directory + '/Umap_3d_Domain_with_contour.jpg', bbox_inches=\"tight\", dpi=600)\n",
        "plt.savefig(model_directory + '/Umap_3d_Domain_with_contour.pdf', bbox_inches=\"tight\", dpi=600)\n",
        "plt.show()\n"
      ],
      "metadata": {
        "id": "qaqi04WuqYYD"
      },
      "execution_count": null,
      "outputs": []
    }
  ]
}